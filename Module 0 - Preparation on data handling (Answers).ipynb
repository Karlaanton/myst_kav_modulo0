{
 "cells": [
  {
   "cell_type": "markdown",
   "metadata": {},
   "source": [
    "<center> <img src=\"http://oci02.img.iteso.mx/identidad_de_instancia_2018/ITESO/Logos%20ITESO/Logo-ITESO-Principal.jpg\" align=\"center\" width=\"960\" height=\"480\"/> </center>"
   ]
  },
  {
   "cell_type": "markdown",
   "metadata": {},
   "source": [
    "<center><font color=#555555><font size=6> MAF1731 - Microstructure and Trading Systems </font> <br> <br>\n",
    "    \n",
    "<center><font color=#555555><font size=5> B.Eng Financial Engineering </font> <br> <br> <br> <br>\n",
    "   \n",
    "<center> <font color= #555555> <font size = 4> Jun 2021 </a> | <font color= #555555> <font size = 4> Repository: <a href='https://github.com/Karlaanton/myst_modulo0_kav'>Link</a></font>"
   ]
  },
  {
   "cell_type": "markdown",
   "metadata": {},
   "source": [
    "<hr style=\"border:0.02in solid gray\"> </hr>"
   ]
  },
  {
   "cell_type": "markdown",
   "metadata": {},
   "source": [
    "<center> <font color= #555555> <font size = 6> Module 0 </font> <br> <br> <font color= #555555> <font size = 5> Preparation for Data Handling - Part 1  </font>\n",
    "<center><font color=#555555><font size=5> Karla Antón Vázquez </font> <br> <br> <br> <br>"
   ]
  },
  {
   "cell_type": "markdown",
   "metadata": {},
   "source": [
    "<hr style=\"border:0.02in solid gray\"> </hr>"
   ]
  },
  {
   "cell_type": "markdown",
   "metadata": {},
   "source": [
    "<br>"
   ]
  },
  {
   "cell_type": "markdown",
   "metadata": {},
   "source": [
    "# <font color= #6B6B6B> <font size = 6> 1. Introduction </font>"
   ]
  },
  {
   "cell_type": "markdown",
   "metadata": {},
   "source": [
    "<hr style=\"border:0.02in solid gray\"> </hr>"
   ]
  },
  {
   "cell_type": "markdown",
   "metadata": {},
   "source": [
    "This notebook is provided as a preparation for the data handling processes that will be needed throughout the course."
   ]
  },
  {
   "cell_type": "markdown",
   "metadata": {},
   "source": [
    "<br>"
   ]
  },
  {
   "cell_type": "markdown",
   "metadata": {},
   "source": [
    "# <font color= #6B6B6B> 2. Install/Load Packages and Depedencies </font>"
   ]
  },
  {
   "cell_type": "markdown",
   "metadata": {},
   "source": [
    "<hr style=\"border:0.02in solid gray\"> </hr>"
   ]
  },
  {
   "cell_type": "markdown",
   "metadata": {},
   "source": [
    "<br>"
   ]
  },
  {
   "cell_type": "markdown",
   "metadata": {},
   "source": [
    "## <font color= #6B6B6B> 2.2 Python Packages </font> <font color= #555555>"
   ]
  },
  {
   "cell_type": "markdown",
   "metadata": {},
   "source": [
    "In order to run this notebook, it is necessary to have installed and/or have the _requirements.txt_ file with the following: "
   ]
  },
  {
   "cell_type": "markdown",
   "metadata": {},
   "source": [
    "- pandas>=1.1.1 \n",
    "- numpy>=1.19.1\n",
    "- jupyter>=1.0.0"
   ]
  },
  {
   "cell_type": "markdown",
   "metadata": {},
   "source": [
    "## <font color= #6B6B6B> 2.3 Files Dependencies </font> <font color= #555555>"
   ]
  },
  {
   "cell_type": "markdown",
   "metadata": {},
   "source": [
    "The following are the file dependencies that are needed to run this notebook:"
   ]
  },
  {
   "cell_type": "markdown",
   "metadata": {},
   "source": [
    "- files/ohlc-prices.csv : Historical Open, High, Low, Close 8 Hour Example Prices."
   ]
  },
  {
   "cell_type": "markdown",
   "metadata": {},
   "source": [
    "## <font color= #6E6E6E> 2.3 Install Packages</font>"
   ]
  },
  {
   "cell_type": "code",
   "execution_count": 1,
   "metadata": {},
   "outputs": [],
   "source": [
    "%%capture\n",
    "\n",
    "# Install all the pip packages in the requirements.txt\n",
    "import sys\n",
    "!{sys.executable} -m pip install -r requirements.txt"
   ]
  },
  {
   "cell_type": "markdown",
   "metadata": {},
   "source": [
    "## <font color= #6E6E6E> 2.4 Load Packages</font>"
   ]
  },
  {
   "cell_type": "code",
   "execution_count": 2,
   "metadata": {},
   "outputs": [],
   "source": [
    "# -- Generic\n",
    "import pandas as pd\n",
    "import numpy as np\n",
    "\n",
    "# -- Visualization\n",
    "import plotly.graph_objects as go\n",
    "import chart_studio.plotly as py"
   ]
  },
  {
   "cell_type": "markdown",
   "metadata": {},
   "source": [
    "<br>"
   ]
  },
  {
   "cell_type": "markdown",
   "metadata": {},
   "source": [
    "# <font color= #6B6B6B> 3. Data Description </font>"
   ]
  },
  {
   "cell_type": "markdown",
   "metadata": {},
   "source": [
    "<hr style=\"border:0.02in solid gray\"> </hr>"
   ]
  },
  {
   "cell_type": "markdown",
   "metadata": {},
   "source": [
    "## <font color= #6B6B6B> 3.1 Load and display the data </font>"
   ]
  },
  {
   "cell_type": "markdown",
   "metadata": {},
   "source": [
    "First, we load and display the data in its original format."
   ]
  },
  {
   "cell_type": "code",
   "execution_count": 3,
   "metadata": {},
   "outputs": [
    {
     "name": "stdout",
     "output_type": "stream",
     "text": [
      "<class 'pandas.core.frame.DataFrame'>\n",
      "RangeIndex: 811 entries, 0 to 810\n",
      "Data columns (total 6 columns):\n",
      " #   Column     Non-Null Count  Dtype  \n",
      "---  ------     --------------  -----  \n",
      " 0   timestamp  811 non-null    object \n",
      " 1   open       811 non-null    float64\n",
      " 2   high       811 non-null    float64\n",
      " 3   low        811 non-null    float64\n",
      " 4   close      811 non-null    float64\n",
      " 5   volume     811 non-null    float64\n",
      "dtypes: float64(5), object(1)\n",
      "memory usage: 38.1+ KB\n"
     ]
    }
   ],
   "source": [
    "# load data\n",
    "ohlc_prices = pd.read_csv('ohlc-prices.csv')\n",
    "\n",
    "# We can ask for the structural information \n",
    "ohlc_prices.info()"
   ]
  },
  {
   "cell_type": "markdown",
   "metadata": {},
   "source": [
    "We can also check the dimensions of the data frame. "
   ]
  },
  {
   "cell_type": "code",
   "execution_count": 4,
   "metadata": {},
   "outputs": [
    {
     "data": {
      "text/plain": [
       "(811, 6)"
      ]
     },
     "execution_count": 4,
     "metadata": {},
     "output_type": "execute_result"
    }
   ],
   "source": [
    "ohlc_prices.shape  # (rows, columns)"
   ]
  },
  {
   "cell_type": "markdown",
   "metadata": {},
   "source": [
    "Lets convert the _timestamp_ column, currently as an _object_ to a _datetime_ data type"
   ]
  },
  {
   "cell_type": "markdown",
   "metadata": {},
   "source": [
    "## <font color= 'royal blue'> EXAMPLE: How to convert a column data type into datetime ? </font>"
   ]
  },
  {
   "cell_type": "code",
   "execution_count": 5,
   "metadata": {},
   "outputs": [],
   "source": [
    "# place your code here\n",
    "ohlc_prices['timestamp'] = pd.to_datetime(ohlc_prices['timestamp'])"
   ]
  },
  {
   "cell_type": "markdown",
   "metadata": {},
   "source": [
    "Check that your answer most generate exactly the same output as the following code cell included in the notebook. "
   ]
  },
  {
   "cell_type": "code",
   "execution_count": 6,
   "metadata": {},
   "outputs": [
    {
     "data": {
      "text/plain": [
       "timestamp    datetime64[ns]\n",
       "open                float64\n",
       "high                float64\n",
       "low                 float64\n",
       "close               float64\n",
       "volume              float64\n",
       "dtype: object"
      ]
     },
     "execution_count": 6,
     "metadata": {},
     "output_type": "execute_result"
    }
   ],
   "source": [
    "ohlc_prices.dtypes"
   ]
  },
  {
   "cell_type": "markdown",
   "metadata": {},
   "source": [
    "Validate your answer by calculating the difference between the $timestamp_{t=1}$ and $timestamp_{t=0}$"
   ]
  },
  {
   "cell_type": "code",
   "execution_count": 7,
   "metadata": {},
   "outputs": [
    {
     "data": {
      "text/plain": [
       "Timedelta('0 days 08:00:00')"
      ]
     },
     "execution_count": 7,
     "metadata": {},
     "output_type": "execute_result"
    }
   ],
   "source": [
    "ohlc_prices['timestamp'].iloc[1] - ohlc_prices['timestamp'].iloc[0]"
   ]
  },
  {
   "cell_type": "markdown",
   "metadata": {},
   "source": [
    "Then, we can display the whole dataframe and see the first 5 and the last 5 automatically"
   ]
  },
  {
   "cell_type": "code",
   "execution_count": 8,
   "metadata": {},
   "outputs": [
    {
     "data": {
      "text/html": [
       "<div>\n",
       "<style scoped>\n",
       "    .dataframe tbody tr th:only-of-type {\n",
       "        vertical-align: middle;\n",
       "    }\n",
       "\n",
       "    .dataframe tbody tr th {\n",
       "        vertical-align: top;\n",
       "    }\n",
       "\n",
       "    .dataframe thead th {\n",
       "        text-align: right;\n",
       "    }\n",
       "</style>\n",
       "<table border=\"1\" class=\"dataframe\">\n",
       "  <thead>\n",
       "    <tr style=\"text-align: right;\">\n",
       "      <th></th>\n",
       "      <th>timestamp</th>\n",
       "      <th>open</th>\n",
       "      <th>high</th>\n",
       "      <th>low</th>\n",
       "      <th>close</th>\n",
       "      <th>volume</th>\n",
       "    </tr>\n",
       "  </thead>\n",
       "  <tbody>\n",
       "    <tr>\n",
       "      <th>0</th>\n",
       "      <td>2020-01-01 00:00:00</td>\n",
       "      <td>129.16</td>\n",
       "      <td>130.98</td>\n",
       "      <td>128.68</td>\n",
       "      <td>130.24</td>\n",
       "      <td>47143.32874</td>\n",
       "    </tr>\n",
       "    <tr>\n",
       "      <th>1</th>\n",
       "      <td>2020-01-01 08:00:00</td>\n",
       "      <td>130.24</td>\n",
       "      <td>132.40</td>\n",
       "      <td>129.87</td>\n",
       "      <td>132.08</td>\n",
       "      <td>51833.22852</td>\n",
       "    </tr>\n",
       "    <tr>\n",
       "      <th>2</th>\n",
       "      <td>2020-01-01 16:00:00</td>\n",
       "      <td>132.08</td>\n",
       "      <td>133.05</td>\n",
       "      <td>129.74</td>\n",
       "      <td>130.77</td>\n",
       "      <td>45793.96471</td>\n",
       "    </tr>\n",
       "    <tr>\n",
       "      <th>3</th>\n",
       "      <td>2020-01-02 00:00:00</td>\n",
       "      <td>130.72</td>\n",
       "      <td>130.78</td>\n",
       "      <td>128.69</td>\n",
       "      <td>129.26</td>\n",
       "      <td>66066.00891</td>\n",
       "    </tr>\n",
       "    <tr>\n",
       "      <th>4</th>\n",
       "      <td>2020-01-02 08:00:00</td>\n",
       "      <td>129.23</td>\n",
       "      <td>130.28</td>\n",
       "      <td>128.90</td>\n",
       "      <td>129.59</td>\n",
       "      <td>48498.93237</td>\n",
       "    </tr>\n",
       "    <tr>\n",
       "      <th>...</th>\n",
       "      <td>...</td>\n",
       "      <td>...</td>\n",
       "      <td>...</td>\n",
       "      <td>...</td>\n",
       "      <td>...</td>\n",
       "      <td>...</td>\n",
       "    </tr>\n",
       "    <tr>\n",
       "      <th>806</th>\n",
       "      <td>2020-09-25 16:00:00</td>\n",
       "      <td>347.14</td>\n",
       "      <td>358.00</td>\n",
       "      <td>345.00</td>\n",
       "      <td>351.92</td>\n",
       "      <td>260019.53836</td>\n",
       "    </tr>\n",
       "    <tr>\n",
       "      <th>807</th>\n",
       "      <td>2020-09-26 00:00:00</td>\n",
       "      <td>351.93</td>\n",
       "      <td>356.40</td>\n",
       "      <td>348.97</td>\n",
       "      <td>350.82</td>\n",
       "      <td>183874.46664</td>\n",
       "    </tr>\n",
       "    <tr>\n",
       "      <th>808</th>\n",
       "      <td>2020-09-26 08:00:00</td>\n",
       "      <td>350.82</td>\n",
       "      <td>354.72</td>\n",
       "      <td>345.88</td>\n",
       "      <td>352.34</td>\n",
       "      <td>219447.48726</td>\n",
       "    </tr>\n",
       "    <tr>\n",
       "      <th>809</th>\n",
       "      <td>2020-09-26 16:00:00</td>\n",
       "      <td>352.34</td>\n",
       "      <td>355.90</td>\n",
       "      <td>350.42</td>\n",
       "      <td>353.92</td>\n",
       "      <td>127557.25365</td>\n",
       "    </tr>\n",
       "    <tr>\n",
       "      <th>810</th>\n",
       "      <td>2020-09-27 00:00:00</td>\n",
       "      <td>353.95</td>\n",
       "      <td>362.14</td>\n",
       "      <td>352.50</td>\n",
       "      <td>354.34</td>\n",
       "      <td>257984.15667</td>\n",
       "    </tr>\n",
       "  </tbody>\n",
       "</table>\n",
       "<p>811 rows × 6 columns</p>\n",
       "</div>"
      ],
      "text/plain": [
       "              timestamp    open    high     low   close        volume\n",
       "0   2020-01-01 00:00:00  129.16  130.98  128.68  130.24   47143.32874\n",
       "1   2020-01-01 08:00:00  130.24  132.40  129.87  132.08   51833.22852\n",
       "2   2020-01-01 16:00:00  132.08  133.05  129.74  130.77   45793.96471\n",
       "3   2020-01-02 00:00:00  130.72  130.78  128.69  129.26   66066.00891\n",
       "4   2020-01-02 08:00:00  129.23  130.28  128.90  129.59   48498.93237\n",
       "..                  ...     ...     ...     ...     ...           ...\n",
       "806 2020-09-25 16:00:00  347.14  358.00  345.00  351.92  260019.53836\n",
       "807 2020-09-26 00:00:00  351.93  356.40  348.97  350.82  183874.46664\n",
       "808 2020-09-26 08:00:00  350.82  354.72  345.88  352.34  219447.48726\n",
       "809 2020-09-26 16:00:00  352.34  355.90  350.42  353.92  127557.25365\n",
       "810 2020-09-27 00:00:00  353.95  362.14  352.50  354.34  257984.15667\n",
       "\n",
       "[811 rows x 6 columns]"
      ]
     },
     "metadata": {},
     "output_type": "display_data"
    }
   ],
   "source": [
    "# Display the readed data\n",
    "display(ohlc_prices)"
   ]
  },
  {
   "cell_type": "markdown",
   "metadata": {},
   "source": [
    "Or, we can specify them manually"
   ]
  },
  {
   "cell_type": "markdown",
   "metadata": {},
   "source": [
    "## <font color= 'royal blue'> Q1: Print at the same cell the first 3 and the last 6 rows of ohlc_prices </font>"
   ]
  },
  {
   "cell_type": "markdown",
   "metadata": {},
   "source": [
    "(0.25 pts)"
   ]
  },
  {
   "cell_type": "code",
   "execution_count": 9,
   "metadata": {},
   "outputs": [
    {
     "data": {
      "text/html": [
       "<div>\n",
       "<style scoped>\n",
       "    .dataframe tbody tr th:only-of-type {\n",
       "        vertical-align: middle;\n",
       "    }\n",
       "\n",
       "    .dataframe tbody tr th {\n",
       "        vertical-align: top;\n",
       "    }\n",
       "\n",
       "    .dataframe thead th {\n",
       "        text-align: right;\n",
       "    }\n",
       "</style>\n",
       "<table border=\"1\" class=\"dataframe\">\n",
       "  <thead>\n",
       "    <tr style=\"text-align: right;\">\n",
       "      <th></th>\n",
       "      <th>timestamp</th>\n",
       "      <th>open</th>\n",
       "      <th>high</th>\n",
       "      <th>low</th>\n",
       "      <th>close</th>\n",
       "      <th>volume</th>\n",
       "    </tr>\n",
       "  </thead>\n",
       "  <tbody>\n",
       "    <tr>\n",
       "      <th>0</th>\n",
       "      <td>2020-01-01 00:00:00</td>\n",
       "      <td>129.16</td>\n",
       "      <td>130.98</td>\n",
       "      <td>128.68</td>\n",
       "      <td>130.24</td>\n",
       "      <td>47143.32874</td>\n",
       "    </tr>\n",
       "    <tr>\n",
       "      <th>1</th>\n",
       "      <td>2020-01-01 08:00:00</td>\n",
       "      <td>130.24</td>\n",
       "      <td>132.40</td>\n",
       "      <td>129.87</td>\n",
       "      <td>132.08</td>\n",
       "      <td>51833.22852</td>\n",
       "    </tr>\n",
       "    <tr>\n",
       "      <th>2</th>\n",
       "      <td>2020-01-01 16:00:00</td>\n",
       "      <td>132.08</td>\n",
       "      <td>133.05</td>\n",
       "      <td>129.74</td>\n",
       "      <td>130.77</td>\n",
       "      <td>45793.96471</td>\n",
       "    </tr>\n",
       "  </tbody>\n",
       "</table>\n",
       "</div>"
      ],
      "text/plain": [
       "            timestamp    open    high     low   close       volume\n",
       "0 2020-01-01 00:00:00  129.16  130.98  128.68  130.24  47143.32874\n",
       "1 2020-01-01 08:00:00  130.24  132.40  129.87  132.08  51833.22852\n",
       "2 2020-01-01 16:00:00  132.08  133.05  129.74  130.77  45793.96471"
      ]
     },
     "metadata": {},
     "output_type": "display_data"
    },
    {
     "data": {
      "text/html": [
       "<div>\n",
       "<style scoped>\n",
       "    .dataframe tbody tr th:only-of-type {\n",
       "        vertical-align: middle;\n",
       "    }\n",
       "\n",
       "    .dataframe tbody tr th {\n",
       "        vertical-align: top;\n",
       "    }\n",
       "\n",
       "    .dataframe thead th {\n",
       "        text-align: right;\n",
       "    }\n",
       "</style>\n",
       "<table border=\"1\" class=\"dataframe\">\n",
       "  <thead>\n",
       "    <tr style=\"text-align: right;\">\n",
       "      <th></th>\n",
       "      <th>timestamp</th>\n",
       "      <th>open</th>\n",
       "      <th>high</th>\n",
       "      <th>low</th>\n",
       "      <th>close</th>\n",
       "      <th>volume</th>\n",
       "    </tr>\n",
       "  </thead>\n",
       "  <tbody>\n",
       "    <tr>\n",
       "      <th>805</th>\n",
       "      <td>2020-09-25 08:00:00</td>\n",
       "      <td>343.01</td>\n",
       "      <td>348.61</td>\n",
       "      <td>337.58</td>\n",
       "      <td>347.12</td>\n",
       "      <td>318745.06684</td>\n",
       "    </tr>\n",
       "    <tr>\n",
       "      <th>806</th>\n",
       "      <td>2020-09-25 16:00:00</td>\n",
       "      <td>347.14</td>\n",
       "      <td>358.00</td>\n",
       "      <td>345.00</td>\n",
       "      <td>351.92</td>\n",
       "      <td>260019.53836</td>\n",
       "    </tr>\n",
       "    <tr>\n",
       "      <th>807</th>\n",
       "      <td>2020-09-26 00:00:00</td>\n",
       "      <td>351.93</td>\n",
       "      <td>356.40</td>\n",
       "      <td>348.97</td>\n",
       "      <td>350.82</td>\n",
       "      <td>183874.46664</td>\n",
       "    </tr>\n",
       "    <tr>\n",
       "      <th>808</th>\n",
       "      <td>2020-09-26 08:00:00</td>\n",
       "      <td>350.82</td>\n",
       "      <td>354.72</td>\n",
       "      <td>345.88</td>\n",
       "      <td>352.34</td>\n",
       "      <td>219447.48726</td>\n",
       "    </tr>\n",
       "    <tr>\n",
       "      <th>809</th>\n",
       "      <td>2020-09-26 16:00:00</td>\n",
       "      <td>352.34</td>\n",
       "      <td>355.90</td>\n",
       "      <td>350.42</td>\n",
       "      <td>353.92</td>\n",
       "      <td>127557.25365</td>\n",
       "    </tr>\n",
       "    <tr>\n",
       "      <th>810</th>\n",
       "      <td>2020-09-27 00:00:00</td>\n",
       "      <td>353.95</td>\n",
       "      <td>362.14</td>\n",
       "      <td>352.50</td>\n",
       "      <td>354.34</td>\n",
       "      <td>257984.15667</td>\n",
       "    </tr>\n",
       "  </tbody>\n",
       "</table>\n",
       "</div>"
      ],
      "text/plain": [
       "              timestamp    open    high     low   close        volume\n",
       "805 2020-09-25 08:00:00  343.01  348.61  337.58  347.12  318745.06684\n",
       "806 2020-09-25 16:00:00  347.14  358.00  345.00  351.92  260019.53836\n",
       "807 2020-09-26 00:00:00  351.93  356.40  348.97  350.82  183874.46664\n",
       "808 2020-09-26 08:00:00  350.82  354.72  345.88  352.34  219447.48726\n",
       "809 2020-09-26 16:00:00  352.34  355.90  350.42  353.92  127557.25365\n",
       "810 2020-09-27 00:00:00  353.95  362.14  352.50  354.34  257984.15667"
      ]
     },
     "metadata": {},
     "output_type": "display_data"
    }
   ],
   "source": [
    "# place your code here\n",
    "first_three = ohlc_prices.head(3)\n",
    "last_six = ohlc_prices.tail(6)\n",
    "display(first_three, last_six)"
   ]
  },
  {
   "cell_type": "markdown",
   "metadata": {},
   "source": [
    "A special note on close and open price match"
   ]
  },
  {
   "cell_type": "markdown",
   "metadata": {},
   "source": [
    "As we can see, the _timestamp_ column has the date and the time representing the time period where all the other data occurred, the _Open_ price is the one that occurred, in the case of registry 0, at that particular date and time **exactly** in the _timestamp_ column of registry 0, then _high_ and _low_ prices occurred within that time period, then the _close_ price occurred in the next registry or timestamp, so you can see the _close_ at time $t$ is the same as the _open_ at $t+1$."
   ]
  },
  {
   "cell_type": "markdown",
   "metadata": {},
   "source": [
    "Lets see a couple of examples of where this happens. "
   ]
  },
  {
   "cell_type": "code",
   "execution_count": 10,
   "metadata": {},
   "outputs": [
    {
     "data": {
      "text/html": [
       "<div>\n",
       "<style scoped>\n",
       "    .dataframe tbody tr th:only-of-type {\n",
       "        vertical-align: middle;\n",
       "    }\n",
       "\n",
       "    .dataframe tbody tr th {\n",
       "        vertical-align: top;\n",
       "    }\n",
       "\n",
       "    .dataframe thead th {\n",
       "        text-align: right;\n",
       "    }\n",
       "</style>\n",
       "<table border=\"1\" class=\"dataframe\">\n",
       "  <thead>\n",
       "    <tr style=\"text-align: right;\">\n",
       "      <th></th>\n",
       "      <th>timestamp</th>\n",
       "      <th>open</th>\n",
       "      <th>high</th>\n",
       "      <th>low</th>\n",
       "      <th>close</th>\n",
       "      <th>volume</th>\n",
       "    </tr>\n",
       "  </thead>\n",
       "  <tbody>\n",
       "    <tr>\n",
       "      <th>0</th>\n",
       "      <td>2020-01-01 00:00:00</td>\n",
       "      <td>129.16</td>\n",
       "      <td>130.98</td>\n",
       "      <td>128.68</td>\n",
       "      <td>130.24</td>\n",
       "      <td>47143.32874</td>\n",
       "    </tr>\n",
       "    <tr>\n",
       "      <th>1</th>\n",
       "      <td>2020-01-01 08:00:00</td>\n",
       "      <td>130.24</td>\n",
       "      <td>132.40</td>\n",
       "      <td>129.87</td>\n",
       "      <td>132.08</td>\n",
       "      <td>51833.22852</td>\n",
       "    </tr>\n",
       "  </tbody>\n",
       "</table>\n",
       "</div>"
      ],
      "text/plain": [
       "            timestamp    open    high     low   close       volume\n",
       "0 2020-01-01 00:00:00  129.16  130.98  128.68  130.24  47143.32874\n",
       "1 2020-01-01 08:00:00  130.24  132.40  129.87  132.08  51833.22852"
      ]
     },
     "metadata": {},
     "output_type": "display_data"
    }
   ],
   "source": [
    "display(ohlc_prices.loc[0:1,:])"
   ]
  },
  {
   "cell_type": "code",
   "execution_count": 11,
   "metadata": {},
   "outputs": [
    {
     "data": {
      "text/html": [
       "<div>\n",
       "<style scoped>\n",
       "    .dataframe tbody tr th:only-of-type {\n",
       "        vertical-align: middle;\n",
       "    }\n",
       "\n",
       "    .dataframe tbody tr th {\n",
       "        vertical-align: top;\n",
       "    }\n",
       "\n",
       "    .dataframe thead th {\n",
       "        text-align: right;\n",
       "    }\n",
       "</style>\n",
       "<table border=\"1\" class=\"dataframe\">\n",
       "  <thead>\n",
       "    <tr style=\"text-align: right;\">\n",
       "      <th></th>\n",
       "      <th>timestamp</th>\n",
       "      <th>open</th>\n",
       "      <th>high</th>\n",
       "      <th>low</th>\n",
       "      <th>close</th>\n",
       "      <th>volume</th>\n",
       "    </tr>\n",
       "  </thead>\n",
       "  <tbody>\n",
       "    <tr>\n",
       "      <th>1</th>\n",
       "      <td>2020-01-01 08:00:00</td>\n",
       "      <td>130.24</td>\n",
       "      <td>132.40</td>\n",
       "      <td>129.87</td>\n",
       "      <td>132.08</td>\n",
       "      <td>51833.22852</td>\n",
       "    </tr>\n",
       "    <tr>\n",
       "      <th>2</th>\n",
       "      <td>2020-01-01 16:00:00</td>\n",
       "      <td>132.08</td>\n",
       "      <td>133.05</td>\n",
       "      <td>129.74</td>\n",
       "      <td>130.77</td>\n",
       "      <td>45793.96471</td>\n",
       "    </tr>\n",
       "  </tbody>\n",
       "</table>\n",
       "</div>"
      ],
      "text/plain": [
       "            timestamp    open    high     low   close       volume\n",
       "1 2020-01-01 08:00:00  130.24  132.40  129.87  132.08  51833.22852\n",
       "2 2020-01-01 16:00:00  132.08  133.05  129.74  130.77  45793.96471"
      ]
     },
     "metadata": {},
     "output_type": "display_data"
    }
   ],
   "source": [
    "display(ohlc_prices.loc[1:2,:])"
   ]
  },
  {
   "cell_type": "markdown",
   "metadata": {},
   "source": [
    "For the cases where _close_ at $t$ is not exactly as _open_ at $t+1$ we can consider that it is an effect of rounding the number, also that it was indeed a _jump_ in the price at that particular _timestamp_, which is something that do happens in financial markets with low liquidity, and/or, at markets with sufficient liquidity in general but in times with not sufficient orders or transactions, also it could be due to broker fees and also when the broker widens the spread by inserting a fee to profit from."
   ]
  },
  {
   "cell_type": "markdown",
   "metadata": {},
   "source": [
    "These are the cases where there is a difference in prices."
   ]
  },
  {
   "cell_type": "code",
   "execution_count": 12,
   "metadata": {},
   "outputs": [
    {
     "data": {
      "text/html": [
       "<div>\n",
       "<style scoped>\n",
       "    .dataframe tbody tr th:only-of-type {\n",
       "        vertical-align: middle;\n",
       "    }\n",
       "\n",
       "    .dataframe tbody tr th {\n",
       "        vertical-align: top;\n",
       "    }\n",
       "\n",
       "    .dataframe thead th {\n",
       "        text-align: right;\n",
       "    }\n",
       "</style>\n",
       "<table border=\"1\" class=\"dataframe\">\n",
       "  <thead>\n",
       "    <tr style=\"text-align: right;\">\n",
       "      <th></th>\n",
       "      <th>timestamp</th>\n",
       "      <th>open</th>\n",
       "      <th>high</th>\n",
       "      <th>low</th>\n",
       "      <th>close</th>\n",
       "      <th>volume</th>\n",
       "    </tr>\n",
       "  </thead>\n",
       "  <tbody>\n",
       "    <tr>\n",
       "      <th>2</th>\n",
       "      <td>2020-01-01 16:00:00</td>\n",
       "      <td>132.08</td>\n",
       "      <td>133.05</td>\n",
       "      <td>129.74</td>\n",
       "      <td>130.77</td>\n",
       "      <td>45793.96471</td>\n",
       "    </tr>\n",
       "    <tr>\n",
       "      <th>3</th>\n",
       "      <td>2020-01-02 00:00:00</td>\n",
       "      <td>130.72</td>\n",
       "      <td>130.78</td>\n",
       "      <td>128.69</td>\n",
       "      <td>129.26</td>\n",
       "      <td>66066.00891</td>\n",
       "    </tr>\n",
       "  </tbody>\n",
       "</table>\n",
       "</div>"
      ],
      "text/plain": [
       "            timestamp    open    high     low   close       volume\n",
       "2 2020-01-01 16:00:00  132.08  133.05  129.74  130.77  45793.96471\n",
       "3 2020-01-02 00:00:00  130.72  130.78  128.69  129.26  66066.00891"
      ]
     },
     "metadata": {},
     "output_type": "display_data"
    }
   ],
   "source": [
    "display(ohlc_prices.loc[2:3,:])"
   ]
  },
  {
   "cell_type": "code",
   "execution_count": 13,
   "metadata": {},
   "outputs": [
    {
     "data": {
      "text/html": [
       "<div>\n",
       "<style scoped>\n",
       "    .dataframe tbody tr th:only-of-type {\n",
       "        vertical-align: middle;\n",
       "    }\n",
       "\n",
       "    .dataframe tbody tr th {\n",
       "        vertical-align: top;\n",
       "    }\n",
       "\n",
       "    .dataframe thead th {\n",
       "        text-align: right;\n",
       "    }\n",
       "</style>\n",
       "<table border=\"1\" class=\"dataframe\">\n",
       "  <thead>\n",
       "    <tr style=\"text-align: right;\">\n",
       "      <th></th>\n",
       "      <th>timestamp</th>\n",
       "      <th>open</th>\n",
       "      <th>high</th>\n",
       "      <th>low</th>\n",
       "      <th>close</th>\n",
       "      <th>volume</th>\n",
       "    </tr>\n",
       "  </thead>\n",
       "  <tbody>\n",
       "    <tr>\n",
       "      <th>809</th>\n",
       "      <td>2020-09-26 16:00:00</td>\n",
       "      <td>352.34</td>\n",
       "      <td>355.90</td>\n",
       "      <td>350.42</td>\n",
       "      <td>353.92</td>\n",
       "      <td>127557.25365</td>\n",
       "    </tr>\n",
       "    <tr>\n",
       "      <th>810</th>\n",
       "      <td>2020-09-27 00:00:00</td>\n",
       "      <td>353.95</td>\n",
       "      <td>362.14</td>\n",
       "      <td>352.50</td>\n",
       "      <td>354.34</td>\n",
       "      <td>257984.15667</td>\n",
       "    </tr>\n",
       "  </tbody>\n",
       "</table>\n",
       "</div>"
      ],
      "text/plain": [
       "              timestamp    open    high     low   close        volume\n",
       "809 2020-09-26 16:00:00  352.34  355.90  350.42  353.92  127557.25365\n",
       "810 2020-09-27 00:00:00  353.95  362.14  352.50  354.34  257984.15667"
      ]
     },
     "metadata": {},
     "output_type": "display_data"
    }
   ],
   "source": [
    "display(ohlc_prices.loc[809:810,:])"
   ]
  },
  {
   "cell_type": "markdown",
   "metadata": {},
   "source": [
    "Those price differences can play an important role in certain cases."
   ]
  },
  {
   "cell_type": "markdown",
   "metadata": {},
   "source": [
    "## <font color= 'royal blue'> Q2: How many cases of price jumps can you find ? </font>"
   ]
  },
  {
   "cell_type": "markdown",
   "metadata": {},
   "source": [
    "(0.125 pts)"
   ]
  },
  {
   "cell_type": "code",
   "execution_count": 14,
   "metadata": {},
   "outputs": [],
   "source": [
    "# place your code here\n",
    "jump_cases = []\n",
    "for row in range (1, len(ohlc_prices)):\n",
    "    jump_cases.append(ohlc_prices['close'][row-1] != ohlc_prices['open'][row])"
   ]
  },
  {
   "cell_type": "code",
   "execution_count": 15,
   "metadata": {},
   "outputs": [
    {
     "name": "stdout",
     "output_type": "stream",
     "text": [
      "The amount of price jumps cases were: 557.\n"
     ]
    }
   ],
   "source": [
    "print(\"The amount of price jumps cases were: {counts}.\".format(counts = sum(jump_cases)))"
   ]
  },
  {
   "cell_type": "markdown",
   "metadata": {},
   "source": [
    "## <font color= 'royal blue'> Q3: Can you display a DataFrame with only the rows where they occurred ? </font>"
   ]
  },
  {
   "cell_type": "markdown",
   "metadata": {},
   "source": [
    "(0.125 pts)"
   ]
  },
  {
   "cell_type": "markdown",
   "metadata": {},
   "source": [
    "Tip: get the index of the $close_{t+1}$ if its different than $open_{t}$, so you find and display these cases to test, then, find all of them."
   ]
  },
  {
   "cell_type": "code",
   "execution_count": 16,
   "metadata": {},
   "outputs": [
    {
     "data": {
      "text/html": [
       "<div>\n",
       "<style scoped>\n",
       "    .dataframe tbody tr th:only-of-type {\n",
       "        vertical-align: middle;\n",
       "    }\n",
       "\n",
       "    .dataframe tbody tr th {\n",
       "        vertical-align: top;\n",
       "    }\n",
       "\n",
       "    .dataframe thead th {\n",
       "        text-align: right;\n",
       "    }\n",
       "</style>\n",
       "<table border=\"1\" class=\"dataframe\">\n",
       "  <thead>\n",
       "    <tr style=\"text-align: right;\">\n",
       "      <th></th>\n",
       "      <th>timestamp</th>\n",
       "      <th>open</th>\n",
       "      <th>high</th>\n",
       "      <th>low</th>\n",
       "      <th>close</th>\n",
       "      <th>volume</th>\n",
       "    </tr>\n",
       "  </thead>\n",
       "  <tbody>\n",
       "    <tr>\n",
       "      <th>2</th>\n",
       "      <td>2020-01-01 16:00:00</td>\n",
       "      <td>132.08</td>\n",
       "      <td>133.05</td>\n",
       "      <td>129.74</td>\n",
       "      <td>130.77</td>\n",
       "      <td>45793.96471</td>\n",
       "    </tr>\n",
       "    <tr>\n",
       "      <th>3</th>\n",
       "      <td>2020-01-02 00:00:00</td>\n",
       "      <td>130.72</td>\n",
       "      <td>130.78</td>\n",
       "      <td>128.69</td>\n",
       "      <td>129.26</td>\n",
       "      <td>66066.00891</td>\n",
       "    </tr>\n",
       "  </tbody>\n",
       "</table>\n",
       "</div>"
      ],
      "text/plain": [
       "            timestamp    open    high     low   close       volume\n",
       "2 2020-01-01 16:00:00  132.08  133.05  129.74  130.77  45793.96471\n",
       "3 2020-01-02 00:00:00  130.72  130.78  128.69  129.26  66066.00891"
      ]
     },
     "metadata": {},
     "output_type": "display_data"
    },
    {
     "data": {
      "text/html": [
       "<div>\n",
       "<style scoped>\n",
       "    .dataframe tbody tr th:only-of-type {\n",
       "        vertical-align: middle;\n",
       "    }\n",
       "\n",
       "    .dataframe tbody tr th {\n",
       "        vertical-align: top;\n",
       "    }\n",
       "\n",
       "    .dataframe thead th {\n",
       "        text-align: right;\n",
       "    }\n",
       "</style>\n",
       "<table border=\"1\" class=\"dataframe\">\n",
       "  <thead>\n",
       "    <tr style=\"text-align: right;\">\n",
       "      <th></th>\n",
       "      <th>timestamp</th>\n",
       "      <th>open</th>\n",
       "      <th>high</th>\n",
       "      <th>low</th>\n",
       "      <th>close</th>\n",
       "      <th>volume</th>\n",
       "    </tr>\n",
       "  </thead>\n",
       "  <tbody>\n",
       "    <tr>\n",
       "      <th>809</th>\n",
       "      <td>2020-09-26 16:00:00</td>\n",
       "      <td>352.34</td>\n",
       "      <td>355.90</td>\n",
       "      <td>350.42</td>\n",
       "      <td>353.92</td>\n",
       "      <td>127557.25365</td>\n",
       "    </tr>\n",
       "    <tr>\n",
       "      <th>810</th>\n",
       "      <td>2020-09-27 00:00:00</td>\n",
       "      <td>353.95</td>\n",
       "      <td>362.14</td>\n",
       "      <td>352.50</td>\n",
       "      <td>354.34</td>\n",
       "      <td>257984.15667</td>\n",
       "    </tr>\n",
       "  </tbody>\n",
       "</table>\n",
       "</div>"
      ],
      "text/plain": [
       "              timestamp    open    high     low   close        volume\n",
       "809 2020-09-26 16:00:00  352.34  355.90  350.42  353.92  127557.25365\n",
       "810 2020-09-27 00:00:00  353.95  362.14  352.50  354.34  257984.15667"
      ]
     },
     "metadata": {},
     "output_type": "display_data"
    }
   ],
   "source": [
    "# These are a two examples\n",
    "display(ohlc_prices.loc[2:3,:])\n",
    "display(ohlc_prices.loc[809:810,:])"
   ]
  },
  {
   "cell_type": "markdown",
   "metadata": {},
   "source": [
    "Create a new DataFrame called $\\text{ohlc_prices_jumps}$ with all the cases and print the first 12 rows"
   ]
  },
  {
   "cell_type": "code",
   "execution_count": 17,
   "metadata": {},
   "outputs": [],
   "source": [
    "# place your code here\n",
    "ohlc_prices_jumps = pd.DataFrame(columns = ['timestamp','open','high', 'low','close','volume'])\n",
    "for row in range (0, len(ohlc_prices)-1):\n",
    "    if ohlc_prices.loc[row,'close'] != ohlc_prices.loc[row+1,'open']:\n",
    "        ohlc_prices_jumps.loc[row,:] = ohlc_prices.loc[row,:]"
   ]
  },
  {
   "cell_type": "code",
   "execution_count": 18,
   "metadata": {},
   "outputs": [
    {
     "data": {
      "text/html": [
       "<div>\n",
       "<style scoped>\n",
       "    .dataframe tbody tr th:only-of-type {\n",
       "        vertical-align: middle;\n",
       "    }\n",
       "\n",
       "    .dataframe tbody tr th {\n",
       "        vertical-align: top;\n",
       "    }\n",
       "\n",
       "    .dataframe thead th {\n",
       "        text-align: right;\n",
       "    }\n",
       "</style>\n",
       "<table border=\"1\" class=\"dataframe\">\n",
       "  <thead>\n",
       "    <tr style=\"text-align: right;\">\n",
       "      <th></th>\n",
       "      <th>timestamp</th>\n",
       "      <th>open</th>\n",
       "      <th>high</th>\n",
       "      <th>low</th>\n",
       "      <th>close</th>\n",
       "      <th>volume</th>\n",
       "    </tr>\n",
       "  </thead>\n",
       "  <tbody>\n",
       "    <tr>\n",
       "      <th>2</th>\n",
       "      <td>2020-01-01 16:00:00</td>\n",
       "      <td>132.08</td>\n",
       "      <td>133.05</td>\n",
       "      <td>129.74</td>\n",
       "      <td>130.77</td>\n",
       "      <td>45793.96471</td>\n",
       "    </tr>\n",
       "    <tr>\n",
       "      <th>3</th>\n",
       "      <td>2020-01-02 00:00:00</td>\n",
       "      <td>130.72</td>\n",
       "      <td>130.78</td>\n",
       "      <td>128.69</td>\n",
       "      <td>129.26</td>\n",
       "      <td>66066.00891</td>\n",
       "    </tr>\n",
       "    <tr>\n",
       "      <th>4</th>\n",
       "      <td>2020-01-02 08:00:00</td>\n",
       "      <td>129.23</td>\n",
       "      <td>130.28</td>\n",
       "      <td>128.9</td>\n",
       "      <td>129.59</td>\n",
       "      <td>48498.93237</td>\n",
       "    </tr>\n",
       "    <tr>\n",
       "      <th>7</th>\n",
       "      <td>2020-01-03 08:00:00</td>\n",
       "      <td>128.86</td>\n",
       "      <td>133.95</td>\n",
       "      <td>128.8</td>\n",
       "      <td>132.53</td>\n",
       "      <td>176281.4428</td>\n",
       "    </tr>\n",
       "    <tr>\n",
       "      <th>8</th>\n",
       "      <td>2020-01-03 16:00:00</td>\n",
       "      <td>132.52</td>\n",
       "      <td>135.14</td>\n",
       "      <td>131.94</td>\n",
       "      <td>134.35</td>\n",
       "      <td>109132.38836</td>\n",
       "    </tr>\n",
       "    <tr>\n",
       "      <th>9</th>\n",
       "      <td>2020-01-04 00:00:00</td>\n",
       "      <td>134.37</td>\n",
       "      <td>134.81</td>\n",
       "      <td>132.79</td>\n",
       "      <td>133.91</td>\n",
       "      <td>54169.97213</td>\n",
       "    </tr>\n",
       "    <tr>\n",
       "      <th>12</th>\n",
       "      <td>2020-01-05 00:00:00</td>\n",
       "      <td>134.2</td>\n",
       "      <td>137.24</td>\n",
       "      <td>134.19</td>\n",
       "      <td>136.02</td>\n",
       "      <td>86117.87334</td>\n",
       "    </tr>\n",
       "    <tr>\n",
       "      <th>13</th>\n",
       "      <td>2020-01-05 08:00:00</td>\n",
       "      <td>136.04</td>\n",
       "      <td>137.96</td>\n",
       "      <td>134.7</td>\n",
       "      <td>137.26</td>\n",
       "      <td>75664.316</td>\n",
       "    </tr>\n",
       "  </tbody>\n",
       "</table>\n",
       "</div>"
      ],
      "text/plain": [
       "              timestamp    open    high     low   close        volume\n",
       "2   2020-01-01 16:00:00  132.08  133.05  129.74  130.77   45793.96471\n",
       "3   2020-01-02 00:00:00  130.72  130.78  128.69  129.26   66066.00891\n",
       "4   2020-01-02 08:00:00  129.23  130.28   128.9  129.59   48498.93237\n",
       "7   2020-01-03 08:00:00  128.86  133.95   128.8  132.53   176281.4428\n",
       "8   2020-01-03 16:00:00  132.52  135.14  131.94  134.35  109132.38836\n",
       "9   2020-01-04 00:00:00  134.37  134.81  132.79  133.91   54169.97213\n",
       "12  2020-01-05 00:00:00   134.2  137.24  134.19  136.02   86117.87334\n",
       "13  2020-01-05 08:00:00  136.04  137.96   134.7  137.26     75664.316"
      ]
     },
     "metadata": {},
     "output_type": "display_data"
    }
   ],
   "source": [
    "display(ohlc_prices_jumps.head(8))"
   ]
  },
  {
   "cell_type": "markdown",
   "metadata": {},
   "source": [
    "Display the last 6 cases"
   ]
  },
  {
   "cell_type": "code",
   "execution_count": 19,
   "metadata": {},
   "outputs": [
    {
     "data": {
      "text/html": [
       "<div>\n",
       "<style scoped>\n",
       "    .dataframe tbody tr th:only-of-type {\n",
       "        vertical-align: middle;\n",
       "    }\n",
       "\n",
       "    .dataframe tbody tr th {\n",
       "        vertical-align: top;\n",
       "    }\n",
       "\n",
       "    .dataframe thead th {\n",
       "        text-align: right;\n",
       "    }\n",
       "</style>\n",
       "<table border=\"1\" class=\"dataframe\">\n",
       "  <thead>\n",
       "    <tr style=\"text-align: right;\">\n",
       "      <th></th>\n",
       "      <th>timestamp</th>\n",
       "      <th>open</th>\n",
       "      <th>high</th>\n",
       "      <th>low</th>\n",
       "      <th>close</th>\n",
       "      <th>volume</th>\n",
       "    </tr>\n",
       "  </thead>\n",
       "  <tbody>\n",
       "    <tr>\n",
       "      <th>801</th>\n",
       "      <td>2020-09-24 00:00:00</td>\n",
       "      <td>320.72</td>\n",
       "      <td>329.17</td>\n",
       "      <td>316.67</td>\n",
       "      <td>328.0</td>\n",
       "      <td>277795.22482</td>\n",
       "    </tr>\n",
       "    <tr>\n",
       "      <th>802</th>\n",
       "      <td>2020-09-24 08:00:00</td>\n",
       "      <td>327.99</td>\n",
       "      <td>345.0</td>\n",
       "      <td>325.0</td>\n",
       "      <td>344.54</td>\n",
       "      <td>438773.14074</td>\n",
       "    </tr>\n",
       "    <tr>\n",
       "      <th>804</th>\n",
       "      <td>2020-09-25 00:00:00</td>\n",
       "      <td>348.97</td>\n",
       "      <td>350.42</td>\n",
       "      <td>339.8</td>\n",
       "      <td>343.0</td>\n",
       "      <td>281879.17404</td>\n",
       "    </tr>\n",
       "    <tr>\n",
       "      <th>805</th>\n",
       "      <td>2020-09-25 08:00:00</td>\n",
       "      <td>343.01</td>\n",
       "      <td>348.61</td>\n",
       "      <td>337.58</td>\n",
       "      <td>347.12</td>\n",
       "      <td>318745.06684</td>\n",
       "    </tr>\n",
       "    <tr>\n",
       "      <th>806</th>\n",
       "      <td>2020-09-25 16:00:00</td>\n",
       "      <td>347.14</td>\n",
       "      <td>358.0</td>\n",
       "      <td>345.0</td>\n",
       "      <td>351.92</td>\n",
       "      <td>260019.53836</td>\n",
       "    </tr>\n",
       "    <tr>\n",
       "      <th>809</th>\n",
       "      <td>2020-09-26 16:00:00</td>\n",
       "      <td>352.34</td>\n",
       "      <td>355.9</td>\n",
       "      <td>350.42</td>\n",
       "      <td>353.92</td>\n",
       "      <td>127557.25365</td>\n",
       "    </tr>\n",
       "  </tbody>\n",
       "</table>\n",
       "</div>"
      ],
      "text/plain": [
       "               timestamp    open    high     low   close        volume\n",
       "801  2020-09-24 00:00:00  320.72  329.17  316.67   328.0  277795.22482\n",
       "802  2020-09-24 08:00:00  327.99   345.0   325.0  344.54  438773.14074\n",
       "804  2020-09-25 00:00:00  348.97  350.42   339.8   343.0  281879.17404\n",
       "805  2020-09-25 08:00:00  343.01  348.61  337.58  347.12  318745.06684\n",
       "806  2020-09-25 16:00:00  347.14   358.0   345.0  351.92  260019.53836\n",
       "809  2020-09-26 16:00:00  352.34   355.9  350.42  353.92  127557.25365"
      ]
     },
     "metadata": {},
     "output_type": "display_data"
    }
   ],
   "source": [
    "display(ohlc_prices_jumps.tail(6))"
   ]
  },
  {
   "cell_type": "markdown",
   "metadata": {},
   "source": [
    "Next we can display some of the descriptive statistics of all the data in its original format."
   ]
  },
  {
   "cell_type": "code",
   "execution_count": 20,
   "metadata": {},
   "outputs": [
    {
     "data": {
      "text/html": [
       "<div>\n",
       "<style scoped>\n",
       "    .dataframe tbody tr th:only-of-type {\n",
       "        vertical-align: middle;\n",
       "    }\n",
       "\n",
       "    .dataframe tbody tr th {\n",
       "        vertical-align: top;\n",
       "    }\n",
       "\n",
       "    .dataframe thead th {\n",
       "        text-align: right;\n",
       "    }\n",
       "</style>\n",
       "<table border=\"1\" class=\"dataframe\">\n",
       "  <thead>\n",
       "    <tr style=\"text-align: right;\">\n",
       "      <th></th>\n",
       "      <th>open</th>\n",
       "      <th>high</th>\n",
       "      <th>low</th>\n",
       "      <th>close</th>\n",
       "      <th>volume</th>\n",
       "    </tr>\n",
       "  </thead>\n",
       "  <tbody>\n",
       "    <tr>\n",
       "      <th>count</th>\n",
       "      <td>811.000000</td>\n",
       "      <td>811.000000</td>\n",
       "      <td>811.000000</td>\n",
       "      <td>811.000000</td>\n",
       "      <td>8.110000e+02</td>\n",
       "    </tr>\n",
       "    <tr>\n",
       "      <th>mean</th>\n",
       "      <td>241.898656</td>\n",
       "      <td>246.353909</td>\n",
       "      <td>237.158397</td>\n",
       "      <td>242.176363</td>\n",
       "      <td>2.804787e+05</td>\n",
       "    </tr>\n",
       "    <tr>\n",
       "      <th>std</th>\n",
       "      <td>86.813317</td>\n",
       "      <td>88.189967</td>\n",
       "      <td>84.950551</td>\n",
       "      <td>86.811425</td>\n",
       "      <td>2.020511e+05</td>\n",
       "    </tr>\n",
       "    <tr>\n",
       "      <th>min</th>\n",
       "      <td>107.020000</td>\n",
       "      <td>115.780000</td>\n",
       "      <td>86.000000</td>\n",
       "      <td>107.010000</td>\n",
       "      <td>4.579396e+04</td>\n",
       "    </tr>\n",
       "    <tr>\n",
       "      <th>25%</th>\n",
       "      <td>175.825000</td>\n",
       "      <td>178.975000</td>\n",
       "      <td>173.045000</td>\n",
       "      <td>176.320000</td>\n",
       "      <td>1.557513e+05</td>\n",
       "    </tr>\n",
       "    <tr>\n",
       "      <th>50%</th>\n",
       "      <td>226.760000</td>\n",
       "      <td>229.960000</td>\n",
       "      <td>224.000000</td>\n",
       "      <td>226.810000</td>\n",
       "      <td>2.337619e+05</td>\n",
       "    </tr>\n",
       "    <tr>\n",
       "      <th>75%</th>\n",
       "      <td>273.285000</td>\n",
       "      <td>279.310000</td>\n",
       "      <td>267.235000</td>\n",
       "      <td>273.860000</td>\n",
       "      <td>3.402303e+05</td>\n",
       "    </tr>\n",
       "    <tr>\n",
       "      <th>max</th>\n",
       "      <td>481.920000</td>\n",
       "      <td>488.840000</td>\n",
       "      <td>471.180000</td>\n",
       "      <td>481.960000</td>\n",
       "      <td>2.217567e+06</td>\n",
       "    </tr>\n",
       "  </tbody>\n",
       "</table>\n",
       "</div>"
      ],
      "text/plain": [
       "             open        high         low       close        volume\n",
       "count  811.000000  811.000000  811.000000  811.000000  8.110000e+02\n",
       "mean   241.898656  246.353909  237.158397  242.176363  2.804787e+05\n",
       "std     86.813317   88.189967   84.950551   86.811425  2.020511e+05\n",
       "min    107.020000  115.780000   86.000000  107.010000  4.579396e+04\n",
       "25%    175.825000  178.975000  173.045000  176.320000  1.557513e+05\n",
       "50%    226.760000  229.960000  224.000000  226.810000  2.337619e+05\n",
       "75%    273.285000  279.310000  267.235000  273.860000  3.402303e+05\n",
       "max    481.920000  488.840000  471.180000  481.960000  2.217567e+06"
      ]
     },
     "metadata": {},
     "output_type": "display_data"
    }
   ],
   "source": [
    "display(ohlc_prices.describe())"
   ]
  },
  {
   "cell_type": "markdown",
   "metadata": {},
   "source": [
    "## <font color= 'royal blue'> Q4: Can you describe only one column ? </font>"
   ]
  },
  {
   "cell_type": "markdown",
   "metadata": {},
   "source": [
    "(0.5 pts)"
   ]
  },
  {
   "cell_type": "code",
   "execution_count": 21,
   "metadata": {},
   "outputs": [
    {
     "data": {
      "text/plain": [
       "count    8.110000e+02\n",
       "mean     2.804787e+05\n",
       "std      2.020511e+05\n",
       "min      4.579396e+04\n",
       "25%      1.557513e+05\n",
       "50%      2.337619e+05\n",
       "75%      3.402303e+05\n",
       "max      2.217567e+06\n",
       "Name: volume, dtype: float64"
      ]
     },
     "metadata": {},
     "output_type": "display_data"
    }
   ],
   "source": [
    "# place your code here\n",
    "display(ohlc_prices['volume'].describe())"
   ]
  },
  {
   "cell_type": "markdown",
   "metadata": {},
   "source": [
    "<br>"
   ]
  },
  {
   "cell_type": "markdown",
   "metadata": {},
   "source": [
    "# <font color= #6B6B6B> 4. Calculations with timestamp  </font>"
   ]
  },
  {
   "cell_type": "markdown",
   "metadata": {},
   "source": [
    "<hr style=\"border:0.02in solid gray\"> </hr>"
   ]
  },
  {
   "cell_type": "markdown",
   "metadata": {},
   "source": [
    "We can calculate a time value with the timestamp column, for example "
   ]
  },
  {
   "cell_type": "code",
   "execution_count": 22,
   "metadata": {},
   "outputs": [
    {
     "data": {
      "text/plain": [
       "Timestamp('2020-01-01 00:00:00')"
      ]
     },
     "metadata": {},
     "output_type": "display_data"
    },
    {
     "data": {
      "text/plain": [
       "'we can extract the minute of the timestamp'"
      ]
     },
     "metadata": {},
     "output_type": "display_data"
    },
    {
     "data": {
      "text/plain": [
       "0"
      ]
     },
     "metadata": {},
     "output_type": "display_data"
    }
   ],
   "source": [
    "display(ohlc_prices['timestamp'][0])\n",
    "display('we can extract the minute of the timestamp')\n",
    "display(ohlc_prices['timestamp'][0].minute)"
   ]
  },
  {
   "cell_type": "markdown",
   "metadata": {},
   "source": [
    "## <font color= 'royal blue'> Q5: Can you create an hour column ? </font>"
   ]
  },
  {
   "cell_type": "markdown",
   "metadata": {},
   "source": [
    "(0.5 pts)"
   ]
  },
  {
   "cell_type": "code",
   "execution_count": 23,
   "metadata": {},
   "outputs": [],
   "source": [
    "# place your code here\n",
    "ohlc_prices['hour'] = ''\n",
    "for row in range (0, len(ohlc_prices)):\n",
    "    ohlc_prices.loc[row,'hour'] = ohlc_prices['timestamp'][row].hour"
   ]
  },
  {
   "cell_type": "code",
   "execution_count": 24,
   "metadata": {},
   "outputs": [
    {
     "data": {
      "text/html": [
       "<div>\n",
       "<style scoped>\n",
       "    .dataframe tbody tr th:only-of-type {\n",
       "        vertical-align: middle;\n",
       "    }\n",
       "\n",
       "    .dataframe tbody tr th {\n",
       "        vertical-align: top;\n",
       "    }\n",
       "\n",
       "    .dataframe thead th {\n",
       "        text-align: right;\n",
       "    }\n",
       "</style>\n",
       "<table border=\"1\" class=\"dataframe\">\n",
       "  <thead>\n",
       "    <tr style=\"text-align: right;\">\n",
       "      <th></th>\n",
       "      <th>timestamp</th>\n",
       "      <th>open</th>\n",
       "      <th>high</th>\n",
       "      <th>low</th>\n",
       "      <th>close</th>\n",
       "      <th>volume</th>\n",
       "      <th>hour</th>\n",
       "    </tr>\n",
       "  </thead>\n",
       "  <tbody>\n",
       "    <tr>\n",
       "      <th>0</th>\n",
       "      <td>2020-01-01 00:00:00</td>\n",
       "      <td>129.16</td>\n",
       "      <td>130.98</td>\n",
       "      <td>128.68</td>\n",
       "      <td>130.24</td>\n",
       "      <td>47143.32874</td>\n",
       "      <td>0</td>\n",
       "    </tr>\n",
       "    <tr>\n",
       "      <th>1</th>\n",
       "      <td>2020-01-01 08:00:00</td>\n",
       "      <td>130.24</td>\n",
       "      <td>132.40</td>\n",
       "      <td>129.87</td>\n",
       "      <td>132.08</td>\n",
       "      <td>51833.22852</td>\n",
       "      <td>8</td>\n",
       "    </tr>\n",
       "    <tr>\n",
       "      <th>2</th>\n",
       "      <td>2020-01-01 16:00:00</td>\n",
       "      <td>132.08</td>\n",
       "      <td>133.05</td>\n",
       "      <td>129.74</td>\n",
       "      <td>130.77</td>\n",
       "      <td>45793.96471</td>\n",
       "      <td>16</td>\n",
       "    </tr>\n",
       "    <tr>\n",
       "      <th>3</th>\n",
       "      <td>2020-01-02 00:00:00</td>\n",
       "      <td>130.72</td>\n",
       "      <td>130.78</td>\n",
       "      <td>128.69</td>\n",
       "      <td>129.26</td>\n",
       "      <td>66066.00891</td>\n",
       "      <td>0</td>\n",
       "    </tr>\n",
       "    <tr>\n",
       "      <th>4</th>\n",
       "      <td>2020-01-02 08:00:00</td>\n",
       "      <td>129.23</td>\n",
       "      <td>130.28</td>\n",
       "      <td>128.90</td>\n",
       "      <td>129.59</td>\n",
       "      <td>48498.93237</td>\n",
       "      <td>8</td>\n",
       "    </tr>\n",
       "  </tbody>\n",
       "</table>\n",
       "</div>"
      ],
      "text/plain": [
       "            timestamp    open    high     low   close       volume hour\n",
       "0 2020-01-01 00:00:00  129.16  130.98  128.68  130.24  47143.32874    0\n",
       "1 2020-01-01 08:00:00  130.24  132.40  129.87  132.08  51833.22852    8\n",
       "2 2020-01-01 16:00:00  132.08  133.05  129.74  130.77  45793.96471   16\n",
       "3 2020-01-02 00:00:00  130.72  130.78  128.69  129.26  66066.00891    0\n",
       "4 2020-01-02 08:00:00  129.23  130.28  128.90  129.59  48498.93237    8"
      ]
     },
     "metadata": {},
     "output_type": "display_data"
    }
   ],
   "source": [
    "display(ohlc_prices.head(5))"
   ]
  },
  {
   "cell_type": "markdown",
   "metadata": {},
   "source": [
    "## <font color= 'royal blue'> Q6: Can you create an day column ? </font>"
   ]
  },
  {
   "cell_type": "markdown",
   "metadata": {},
   "source": [
    "(0.5 pts)"
   ]
  },
  {
   "cell_type": "code",
   "execution_count": 30,
   "metadata": {},
   "outputs": [],
   "source": [
    "# place your code here\n",
    "ohlc_prices['day'] = ''\n",
    "for row in range (0, len(ohlc_prices)):\n",
    "    ohlc_prices.loc[row,'day'] = ohlc_prices['timestamp'][row].dayofweek"
   ]
  },
  {
   "cell_type": "code",
   "execution_count": 31,
   "metadata": {},
   "outputs": [
    {
     "data": {
      "text/html": [
       "<div>\n",
       "<style scoped>\n",
       "    .dataframe tbody tr th:only-of-type {\n",
       "        vertical-align: middle;\n",
       "    }\n",
       "\n",
       "    .dataframe tbody tr th {\n",
       "        vertical-align: top;\n",
       "    }\n",
       "\n",
       "    .dataframe thead th {\n",
       "        text-align: right;\n",
       "    }\n",
       "</style>\n",
       "<table border=\"1\" class=\"dataframe\">\n",
       "  <thead>\n",
       "    <tr style=\"text-align: right;\">\n",
       "      <th></th>\n",
       "      <th>timestamp</th>\n",
       "      <th>open</th>\n",
       "      <th>high</th>\n",
       "      <th>low</th>\n",
       "      <th>close</th>\n",
       "      <th>volume</th>\n",
       "      <th>hour</th>\n",
       "      <th>day</th>\n",
       "    </tr>\n",
       "  </thead>\n",
       "  <tbody>\n",
       "    <tr>\n",
       "      <th>0</th>\n",
       "      <td>2020-01-01 00:00:00</td>\n",
       "      <td>129.16</td>\n",
       "      <td>130.98</td>\n",
       "      <td>128.68</td>\n",
       "      <td>130.24</td>\n",
       "      <td>47143.32874</td>\n",
       "      <td>0</td>\n",
       "      <td>2</td>\n",
       "    </tr>\n",
       "    <tr>\n",
       "      <th>1</th>\n",
       "      <td>2020-01-01 08:00:00</td>\n",
       "      <td>130.24</td>\n",
       "      <td>132.40</td>\n",
       "      <td>129.87</td>\n",
       "      <td>132.08</td>\n",
       "      <td>51833.22852</td>\n",
       "      <td>8</td>\n",
       "      <td>2</td>\n",
       "    </tr>\n",
       "    <tr>\n",
       "      <th>2</th>\n",
       "      <td>2020-01-01 16:00:00</td>\n",
       "      <td>132.08</td>\n",
       "      <td>133.05</td>\n",
       "      <td>129.74</td>\n",
       "      <td>130.77</td>\n",
       "      <td>45793.96471</td>\n",
       "      <td>16</td>\n",
       "      <td>2</td>\n",
       "    </tr>\n",
       "    <tr>\n",
       "      <th>3</th>\n",
       "      <td>2020-01-02 00:00:00</td>\n",
       "      <td>130.72</td>\n",
       "      <td>130.78</td>\n",
       "      <td>128.69</td>\n",
       "      <td>129.26</td>\n",
       "      <td>66066.00891</td>\n",
       "      <td>0</td>\n",
       "      <td>3</td>\n",
       "    </tr>\n",
       "    <tr>\n",
       "      <th>4</th>\n",
       "      <td>2020-01-02 08:00:00</td>\n",
       "      <td>129.23</td>\n",
       "      <td>130.28</td>\n",
       "      <td>128.90</td>\n",
       "      <td>129.59</td>\n",
       "      <td>48498.93237</td>\n",
       "      <td>8</td>\n",
       "      <td>3</td>\n",
       "    </tr>\n",
       "  </tbody>\n",
       "</table>\n",
       "</div>"
      ],
      "text/plain": [
       "            timestamp    open    high     low   close       volume hour day\n",
       "0 2020-01-01 00:00:00  129.16  130.98  128.68  130.24  47143.32874    0   2\n",
       "1 2020-01-01 08:00:00  130.24  132.40  129.87  132.08  51833.22852    8   2\n",
       "2 2020-01-01 16:00:00  132.08  133.05  129.74  130.77  45793.96471   16   2\n",
       "3 2020-01-02 00:00:00  130.72  130.78  128.69  129.26  66066.00891    0   3\n",
       "4 2020-01-02 08:00:00  129.23  130.28  128.90  129.59  48498.93237    8   3"
      ]
     },
     "metadata": {},
     "output_type": "display_data"
    }
   ],
   "source": [
    "display(ohlc_prices.head(5))"
   ]
  },
  {
   "cell_type": "markdown",
   "metadata": {},
   "source": [
    "So, there are many ways to express a day, numerically, it can be the week day (from 0 to 6), the day of the month (from 0 to 30) and even the day in the year (from 0 to 365). Also as a string in some language, like (monday), or (lunes). For this particular notebook, we will use a numeric notation with 0 as monday and 6 as sunday, and so the expected output is the following:"
   ]
  },
  {
   "cell_type": "code",
   "execution_count": 32,
   "metadata": {},
   "outputs": [
    {
     "data": {
      "text/plain": [
       "{0, 1, 2, 3, 4, 5, 6}"
      ]
     },
     "execution_count": 32,
     "metadata": {},
     "output_type": "execute_result"
    }
   ],
   "source": [
    "set(ohlc_prices['day'])"
   ]
  },
  {
   "cell_type": "markdown",
   "metadata": {},
   "source": [
    "## <font color= 'royal blue'> Q7: Can you create an month column ? </font>"
   ]
  },
  {
   "cell_type": "markdown",
   "metadata": {},
   "source": [
    "(0.5 pts)"
   ]
  },
  {
   "cell_type": "code",
   "execution_count": 33,
   "metadata": {},
   "outputs": [],
   "source": [
    "# place your code here\n",
    "ohlc_prices['month'] = ''\n",
    "for row in range (0, len(ohlc_prices)):\n",
    "    ohlc_prices.loc[row,'month'] = ohlc_prices['timestamp'][row].month"
   ]
  },
  {
   "cell_type": "code",
   "execution_count": 34,
   "metadata": {},
   "outputs": [
    {
     "data": {
      "text/html": [
       "<div>\n",
       "<style scoped>\n",
       "    .dataframe tbody tr th:only-of-type {\n",
       "        vertical-align: middle;\n",
       "    }\n",
       "\n",
       "    .dataframe tbody tr th {\n",
       "        vertical-align: top;\n",
       "    }\n",
       "\n",
       "    .dataframe thead th {\n",
       "        text-align: right;\n",
       "    }\n",
       "</style>\n",
       "<table border=\"1\" class=\"dataframe\">\n",
       "  <thead>\n",
       "    <tr style=\"text-align: right;\">\n",
       "      <th></th>\n",
       "      <th>timestamp</th>\n",
       "      <th>open</th>\n",
       "      <th>high</th>\n",
       "      <th>low</th>\n",
       "      <th>close</th>\n",
       "      <th>volume</th>\n",
       "      <th>hour</th>\n",
       "      <th>day</th>\n",
       "      <th>month</th>\n",
       "    </tr>\n",
       "  </thead>\n",
       "  <tbody>\n",
       "    <tr>\n",
       "      <th>0</th>\n",
       "      <td>2020-01-01 00:00:00</td>\n",
       "      <td>129.16</td>\n",
       "      <td>130.98</td>\n",
       "      <td>128.68</td>\n",
       "      <td>130.24</td>\n",
       "      <td>47143.32874</td>\n",
       "      <td>0</td>\n",
       "      <td>2</td>\n",
       "      <td>1</td>\n",
       "    </tr>\n",
       "    <tr>\n",
       "      <th>1</th>\n",
       "      <td>2020-01-01 08:00:00</td>\n",
       "      <td>130.24</td>\n",
       "      <td>132.40</td>\n",
       "      <td>129.87</td>\n",
       "      <td>132.08</td>\n",
       "      <td>51833.22852</td>\n",
       "      <td>8</td>\n",
       "      <td>2</td>\n",
       "      <td>1</td>\n",
       "    </tr>\n",
       "    <tr>\n",
       "      <th>2</th>\n",
       "      <td>2020-01-01 16:00:00</td>\n",
       "      <td>132.08</td>\n",
       "      <td>133.05</td>\n",
       "      <td>129.74</td>\n",
       "      <td>130.77</td>\n",
       "      <td>45793.96471</td>\n",
       "      <td>16</td>\n",
       "      <td>2</td>\n",
       "      <td>1</td>\n",
       "    </tr>\n",
       "    <tr>\n",
       "      <th>3</th>\n",
       "      <td>2020-01-02 00:00:00</td>\n",
       "      <td>130.72</td>\n",
       "      <td>130.78</td>\n",
       "      <td>128.69</td>\n",
       "      <td>129.26</td>\n",
       "      <td>66066.00891</td>\n",
       "      <td>0</td>\n",
       "      <td>3</td>\n",
       "      <td>1</td>\n",
       "    </tr>\n",
       "    <tr>\n",
       "      <th>4</th>\n",
       "      <td>2020-01-02 08:00:00</td>\n",
       "      <td>129.23</td>\n",
       "      <td>130.28</td>\n",
       "      <td>128.90</td>\n",
       "      <td>129.59</td>\n",
       "      <td>48498.93237</td>\n",
       "      <td>8</td>\n",
       "      <td>3</td>\n",
       "      <td>1</td>\n",
       "    </tr>\n",
       "  </tbody>\n",
       "</table>\n",
       "</div>"
      ],
      "text/plain": [
       "            timestamp    open    high     low   close       volume hour day  \\\n",
       "0 2020-01-01 00:00:00  129.16  130.98  128.68  130.24  47143.32874    0   2   \n",
       "1 2020-01-01 08:00:00  130.24  132.40  129.87  132.08  51833.22852    8   2   \n",
       "2 2020-01-01 16:00:00  132.08  133.05  129.74  130.77  45793.96471   16   2   \n",
       "3 2020-01-02 00:00:00  130.72  130.78  128.69  129.26  66066.00891    0   3   \n",
       "4 2020-01-02 08:00:00  129.23  130.28  128.90  129.59  48498.93237    8   3   \n",
       "\n",
       "  month  \n",
       "0     1  \n",
       "1     1  \n",
       "2     1  \n",
       "3     1  \n",
       "4     1  "
      ]
     },
     "metadata": {},
     "output_type": "display_data"
    }
   ],
   "source": [
    "display(ohlc_prices.head(5))"
   ]
  },
  {
   "cell_type": "markdown",
   "metadata": {},
   "source": [
    "Similarly to _day_, in the month there can be a lot of ways to expressing it, we will use also the numeric value where 1 is january and so on."
   ]
  },
  {
   "cell_type": "markdown",
   "metadata": {},
   "source": [
    "## <font color= 'royal blue'> Q8: How do you print the unique values of hour and day columns ? </font>"
   ]
  },
  {
   "cell_type": "markdown",
   "metadata": {},
   "source": [
    "(0.5 pts)"
   ]
  },
  {
   "cell_type": "code",
   "execution_count": 55,
   "metadata": {},
   "outputs": [],
   "source": [
    "# place your code here\n",
    "hour_vals = ohlc_prices['hour'].unique().tolist()\n",
    "day_vals = ohlc_prices['day'].unique().tolist()"
   ]
  },
  {
   "cell_type": "code",
   "execution_count": 56,
   "metadata": {},
   "outputs": [
    {
     "name": "stdout",
     "output_type": "stream",
     "text": [
      "The unique values of the hour columnare: [0, 8, 16]\n",
      "The unique values of the day column are: [2, 3, 4, 5, 6, 0, 1]\n"
     ]
    }
   ],
   "source": [
    "print('The unique values of the hour columnare:', hour_vals)\n",
    "print('The unique values of the day column are:', day_vals)"
   ]
  },
  {
   "cell_type": "markdown",
   "metadata": {},
   "source": [
    "# <font color= #6B6B6B> 5. Session information  </font>"
   ]
  },
  {
   "cell_type": "markdown",
   "metadata": {},
   "source": [
    "As you already know, there are a lot of financial markets, and not all of them are located in the same city. Even the ones that do not have a physical building open to the public, its servers will be necessarily located in some place in earth and therefore have a geolocation which means have a timezone. "
   ]
  },
  {
   "cell_type": "markdown",
   "metadata": {},
   "source": [
    "At Guadalajara, we live in the GMT-6 timezone, or GMT-5 for the 'horario de verano', or, 'daylight savings'. With that refference, we can define the following intervals of time to classify a 'market session' according to the corresponding continent that is active during that particular time, where active means that in that interval is included their corresponding 'working hours'."
   ]
  },
  {
   "cell_type": "code",
   "execution_count": 57,
   "metadata": {},
   "outputs": [],
   "source": [
    "asia = [22, 23, 0, 1, 2, 3, 4, 5, 6, 7]\n",
    "asia_europe = [8]\n",
    "europe = [9, 10, 11, 12]\n",
    "europe_america = [13, 14, 15, 16]\n",
    "america = [17, 18, 19, 20, 21]"
   ]
  },
  {
   "cell_type": "markdown",
   "metadata": {},
   "source": [
    "## <font color= 'royal blue'> Q9: Create a _session_ column with its corresponding string according to hours in its list </font>"
   ]
  },
  {
   "cell_type": "markdown",
   "metadata": {},
   "source": [
    "(0.5 pts)"
   ]
  },
  {
   "cell_type": "code",
   "execution_count": 33,
   "metadata": {},
   "outputs": [
    {
     "name": "stdout",
     "output_type": "stream",
     "text": [
      "for this case: 8  corresponds to: asia_europe\n"
     ]
    }
   ],
   "source": [
    "# one example would be\n",
    "print('for this case:', ohlc_prices['hour'][16], ' corresponds to:', 'asia_europe')"
   ]
  },
  {
   "cell_type": "code",
   "execution_count": 34,
   "metadata": {},
   "outputs": [],
   "source": [
    "# place your code here\n",
    "ohlc_prices['session'] = ''\n"
   ]
  },
  {
   "cell_type": "code",
   "execution_count": 35,
   "metadata": {},
   "outputs": [
    {
     "data": {
      "text/html": [
       "<div>\n",
       "<style scoped>\n",
       "    .dataframe tbody tr th:only-of-type {\n",
       "        vertical-align: middle;\n",
       "    }\n",
       "\n",
       "    .dataframe tbody tr th {\n",
       "        vertical-align: top;\n",
       "    }\n",
       "\n",
       "    .dataframe thead th {\n",
       "        text-align: right;\n",
       "    }\n",
       "</style>\n",
       "<table border=\"1\" class=\"dataframe\">\n",
       "  <thead>\n",
       "    <tr style=\"text-align: right;\">\n",
       "      <th></th>\n",
       "      <th>timestamp</th>\n",
       "      <th>open</th>\n",
       "      <th>high</th>\n",
       "      <th>low</th>\n",
       "      <th>close</th>\n",
       "      <th>volume</th>\n",
       "      <th>hour</th>\n",
       "      <th>day</th>\n",
       "      <th>month</th>\n",
       "      <th>session</th>\n",
       "    </tr>\n",
       "  </thead>\n",
       "  <tbody>\n",
       "    <tr>\n",
       "      <th>0</th>\n",
       "      <td>2020-01-01 00:00:00</td>\n",
       "      <td>129.16</td>\n",
       "      <td>130.98</td>\n",
       "      <td>128.68</td>\n",
       "      <td>130.24</td>\n",
       "      <td>47143.32874</td>\n",
       "      <td>0</td>\n",
       "      <td>2</td>\n",
       "      <td>1</td>\n",
       "      <td>asia</td>\n",
       "    </tr>\n",
       "    <tr>\n",
       "      <th>1</th>\n",
       "      <td>2020-01-01 08:00:00</td>\n",
       "      <td>130.24</td>\n",
       "      <td>132.40</td>\n",
       "      <td>129.87</td>\n",
       "      <td>132.08</td>\n",
       "      <td>51833.22852</td>\n",
       "      <td>8</td>\n",
       "      <td>2</td>\n",
       "      <td>1</td>\n",
       "      <td>asia-europe</td>\n",
       "    </tr>\n",
       "    <tr>\n",
       "      <th>2</th>\n",
       "      <td>2020-01-01 16:00:00</td>\n",
       "      <td>132.08</td>\n",
       "      <td>133.05</td>\n",
       "      <td>129.74</td>\n",
       "      <td>130.77</td>\n",
       "      <td>45793.96471</td>\n",
       "      <td>16</td>\n",
       "      <td>2</td>\n",
       "      <td>1</td>\n",
       "      <td>europe-america</td>\n",
       "    </tr>\n",
       "    <tr>\n",
       "      <th>3</th>\n",
       "      <td>2020-01-02 00:00:00</td>\n",
       "      <td>130.72</td>\n",
       "      <td>130.78</td>\n",
       "      <td>128.69</td>\n",
       "      <td>129.26</td>\n",
       "      <td>66066.00891</td>\n",
       "      <td>0</td>\n",
       "      <td>3</td>\n",
       "      <td>1</td>\n",
       "      <td>asia</td>\n",
       "    </tr>\n",
       "    <tr>\n",
       "      <th>4</th>\n",
       "      <td>2020-01-02 08:00:00</td>\n",
       "      <td>129.23</td>\n",
       "      <td>130.28</td>\n",
       "      <td>128.90</td>\n",
       "      <td>129.59</td>\n",
       "      <td>48498.93237</td>\n",
       "      <td>8</td>\n",
       "      <td>3</td>\n",
       "      <td>1</td>\n",
       "      <td>asia-europe</td>\n",
       "    </tr>\n",
       "  </tbody>\n",
       "</table>\n",
       "</div>"
      ],
      "text/plain": [
       "            timestamp    open    high     low   close       volume  hour  day  \\\n",
       "0 2020-01-01 00:00:00  129.16  130.98  128.68  130.24  47143.32874     0    2   \n",
       "1 2020-01-01 08:00:00  130.24  132.40  129.87  132.08  51833.22852     8    2   \n",
       "2 2020-01-01 16:00:00  132.08  133.05  129.74  130.77  45793.96471    16    2   \n",
       "3 2020-01-02 00:00:00  130.72  130.78  128.69  129.26  66066.00891     0    3   \n",
       "4 2020-01-02 08:00:00  129.23  130.28  128.90  129.59  48498.93237     8    3   \n",
       "\n",
       "   month         session  \n",
       "0      1            asia  \n",
       "1      1     asia-europe  \n",
       "2      1  europe-america  \n",
       "3      1            asia  \n",
       "4      1     asia-europe  "
      ]
     },
     "metadata": {},
     "output_type": "display_data"
    },
    {
     "data": {
      "text/html": [
       "<div>\n",
       "<style scoped>\n",
       "    .dataframe tbody tr th:only-of-type {\n",
       "        vertical-align: middle;\n",
       "    }\n",
       "\n",
       "    .dataframe tbody tr th {\n",
       "        vertical-align: top;\n",
       "    }\n",
       "\n",
       "    .dataframe thead th {\n",
       "        text-align: right;\n",
       "    }\n",
       "</style>\n",
       "<table border=\"1\" class=\"dataframe\">\n",
       "  <thead>\n",
       "    <tr style=\"text-align: right;\">\n",
       "      <th></th>\n",
       "      <th>timestamp</th>\n",
       "      <th>open</th>\n",
       "      <th>high</th>\n",
       "      <th>low</th>\n",
       "      <th>close</th>\n",
       "      <th>volume</th>\n",
       "      <th>hour</th>\n",
       "      <th>day</th>\n",
       "      <th>month</th>\n",
       "      <th>session</th>\n",
       "    </tr>\n",
       "  </thead>\n",
       "  <tbody>\n",
       "    <tr>\n",
       "      <th>806</th>\n",
       "      <td>2020-09-25 16:00:00</td>\n",
       "      <td>347.14</td>\n",
       "      <td>358.00</td>\n",
       "      <td>345.00</td>\n",
       "      <td>351.92</td>\n",
       "      <td>260019.53836</td>\n",
       "      <td>16</td>\n",
       "      <td>4</td>\n",
       "      <td>9</td>\n",
       "      <td>europe-america</td>\n",
       "    </tr>\n",
       "    <tr>\n",
       "      <th>807</th>\n",
       "      <td>2020-09-26 00:00:00</td>\n",
       "      <td>351.93</td>\n",
       "      <td>356.40</td>\n",
       "      <td>348.97</td>\n",
       "      <td>350.82</td>\n",
       "      <td>183874.46664</td>\n",
       "      <td>0</td>\n",
       "      <td>5</td>\n",
       "      <td>9</td>\n",
       "      <td>asia</td>\n",
       "    </tr>\n",
       "    <tr>\n",
       "      <th>808</th>\n",
       "      <td>2020-09-26 08:00:00</td>\n",
       "      <td>350.82</td>\n",
       "      <td>354.72</td>\n",
       "      <td>345.88</td>\n",
       "      <td>352.34</td>\n",
       "      <td>219447.48726</td>\n",
       "      <td>8</td>\n",
       "      <td>5</td>\n",
       "      <td>9</td>\n",
       "      <td>asia-europe</td>\n",
       "    </tr>\n",
       "    <tr>\n",
       "      <th>809</th>\n",
       "      <td>2020-09-26 16:00:00</td>\n",
       "      <td>352.34</td>\n",
       "      <td>355.90</td>\n",
       "      <td>350.42</td>\n",
       "      <td>353.92</td>\n",
       "      <td>127557.25365</td>\n",
       "      <td>16</td>\n",
       "      <td>5</td>\n",
       "      <td>9</td>\n",
       "      <td>europe-america</td>\n",
       "    </tr>\n",
       "    <tr>\n",
       "      <th>810</th>\n",
       "      <td>2020-09-27 00:00:00</td>\n",
       "      <td>353.95</td>\n",
       "      <td>362.14</td>\n",
       "      <td>352.50</td>\n",
       "      <td>354.34</td>\n",
       "      <td>257984.15667</td>\n",
       "      <td>0</td>\n",
       "      <td>6</td>\n",
       "      <td>9</td>\n",
       "      <td>asia</td>\n",
       "    </tr>\n",
       "  </tbody>\n",
       "</table>\n",
       "</div>"
      ],
      "text/plain": [
       "              timestamp    open    high     low   close        volume  hour  \\\n",
       "806 2020-09-25 16:00:00  347.14  358.00  345.00  351.92  260019.53836    16   \n",
       "807 2020-09-26 00:00:00  351.93  356.40  348.97  350.82  183874.46664     0   \n",
       "808 2020-09-26 08:00:00  350.82  354.72  345.88  352.34  219447.48726     8   \n",
       "809 2020-09-26 16:00:00  352.34  355.90  350.42  353.92  127557.25365    16   \n",
       "810 2020-09-27 00:00:00  353.95  362.14  352.50  354.34  257984.15667     0   \n",
       "\n",
       "     day  month         session  \n",
       "806    4      9  europe-america  \n",
       "807    5      9            asia  \n",
       "808    5      9     asia-europe  \n",
       "809    5      9  europe-america  \n",
       "810    6      9            asia  "
      ]
     },
     "metadata": {},
     "output_type": "display_data"
    }
   ],
   "source": [
    "display(ohlc_prices.head(5))\n",
    "display(ohlc_prices.tail(5))"
   ]
  },
  {
   "cell_type": "markdown",
   "metadata": {},
   "source": [
    "# <font color= #6B6B6B> 6. Magnitud and Direction  </font>"
   ]
  },
  {
   "cell_type": "markdown",
   "metadata": {},
   "source": [
    "<hr style=\"border:0.02in solid gray\"> </hr>"
   ]
  },
  {
   "cell_type": "markdown",
   "metadata": {},
   "source": [
    "Then, we can calculate some other values, or, linear variables, with the four prices for each interval: _open_, _high_, _low_, _close_. For example, _co_ will be _close_ - _open_"
   ]
  },
  {
   "cell_type": "code",
   "execution_count": 36,
   "metadata": {},
   "outputs": [
    {
     "data": {
      "text/plain": [
       "0    1.08\n",
       "1    1.84\n",
       "2   -1.31\n",
       "3   -1.46\n",
       "Name: co, dtype: float64"
      ]
     },
     "execution_count": 36,
     "metadata": {},
     "output_type": "execute_result"
    }
   ],
   "source": [
    "# Close - Open\n",
    "ohlc_prices['co'] = (ohlc_prices['close'] - ohlc_prices['open'])\n",
    "ohlc_prices['co'][0:4]"
   ]
  },
  {
   "cell_type": "markdown",
   "metadata": {},
   "source": [
    "## <font color= 'royal blue'> Q10: Can you round all the values to 4 decimals in the _co_ column ?</font>"
   ]
  },
  {
   "cell_type": "markdown",
   "metadata": {},
   "source": [
    "(0.5 pts)"
   ]
  },
  {
   "cell_type": "code",
   "execution_count": 37,
   "metadata": {},
   "outputs": [
    {
     "data": {
      "text/plain": [
       "0      1.08\n",
       "1      1.84\n",
       "2     -1.31\n",
       "3     -1.46\n",
       "4      0.36\n",
       "       ... \n",
       "806    4.78\n",
       "807   -1.11\n",
       "808    1.52\n",
       "809    1.58\n",
       "810    0.39\n",
       "Name: co, Length: 811, dtype: float64"
      ]
     },
     "execution_count": 37,
     "metadata": {},
     "output_type": "execute_result"
    }
   ],
   "source": [
    "# place your code here"
   ]
  },
  {
   "cell_type": "markdown",
   "metadata": {},
   "source": [
    "With this _co_ example as column, one can have a variable to express one particular aspect of the price dynamics during each time period or candle. Remember the _return_ formula?, the return is your friend, and no it is not normal, but, are you ?."
   ]
  },
  {
   "cell_type": "markdown",
   "metadata": {},
   "source": [
    "For the case of _co_, think of it as the numerator of one of the operations you should remmember very clearly:\n",
    "\n",
    "\\begin{equation}\n",
    "    R_{d} = \\frac{Price_{t+1} - Price_{t}}{Price_{t}} \\quad , \\quad R_{log} = \\log \\left( \\frac{Price_{t+1}}{Price_{t}} \\right)\n",
    "\\end{equation}\n",
    "\n",
    "where: <br>\n",
    "$R_{d}$: The return metric in discrete time <br>\n",
    "$R_{log}$: The return metric in continuous time <br>\n",
    "\n",
    "Since we can assume that $close_{t} = open_{t+1}$ and that $open_{t} = close_{t-1}$, then, $price_{t+1} = open_{t+1}$ and $price_{t} = open_{t}$, similarly, $price_{t+1} = close_{t+1}$ and $price_{t} = close_{t}$."
   ]
  },
  {
   "cell_type": "markdown",
   "metadata": {},
   "source": [
    "Therefore, ultimately, we can state that:\n",
    "\n",
    "\\begin{equation}\n",
    "    close_{t+1} - open_{t+2} = close_{t} - open_{t+1} \\rightarrow R_d = price_{t+1} - price_{t}\n",
    "\\end{equation}"
   ]
  },
  {
   "cell_type": "markdown",
   "metadata": {},
   "source": [
    "So, in a way, when can use $co$ as the numerator of the return formula, moreover, we can consider that as the difference between two prices without scaling them so the resulting number do not represent a proportion, just a substraction. This will be more of use in the future, but for now, you can think of it as the first difference of the price (remmember lags and differences? from the timeseries course)"
   ]
  },
  {
   "cell_type": "markdown",
   "metadata": {},
   "source": [
    "Recall also that because of the mathematical properties of $log$, we can express _co_ like the following:\n",
    "    \n",
    "\\begin{equation}\n",
    "    R_{log} = \\log \\left( \\frac{price_{t+1}}{price_{t}} \\right) = \\log(price_{t+1}) - \\log(price_{t})\n",
    "\\end{equation}\n",
    "\n",
    "Which is consisten with the previous definition of $co_{t} = close_{t} - open_{t}$ for every value of $t$ in the whole dataset."
   ]
  },
  {
   "cell_type": "markdown",
   "metadata": {},
   "source": [
    "But what about if we need a metric that indicate just the sign, or the _direction_ of the price movement for a particular observation, what would that look like ?"
   ]
  },
  {
   "cell_type": "code",
   "execution_count": 38,
   "metadata": {},
   "outputs": [
    {
     "data": {
      "text/html": [
       "<div>\n",
       "<style scoped>\n",
       "    .dataframe tbody tr th:only-of-type {\n",
       "        vertical-align: middle;\n",
       "    }\n",
       "\n",
       "    .dataframe tbody tr th {\n",
       "        vertical-align: top;\n",
       "    }\n",
       "\n",
       "    .dataframe thead th {\n",
       "        text-align: right;\n",
       "    }\n",
       "</style>\n",
       "<table border=\"1\" class=\"dataframe\">\n",
       "  <thead>\n",
       "    <tr style=\"text-align: right;\">\n",
       "      <th></th>\n",
       "      <th>timestamp</th>\n",
       "      <th>open</th>\n",
       "      <th>high</th>\n",
       "      <th>low</th>\n",
       "      <th>close</th>\n",
       "      <th>volume</th>\n",
       "      <th>hour</th>\n",
       "      <th>day</th>\n",
       "      <th>month</th>\n",
       "      <th>session</th>\n",
       "      <th>co</th>\n",
       "    </tr>\n",
       "  </thead>\n",
       "  <tbody>\n",
       "    <tr>\n",
       "      <th>0</th>\n",
       "      <td>2020-01-01 00:00:00</td>\n",
       "      <td>129.16</td>\n",
       "      <td>130.98</td>\n",
       "      <td>128.68</td>\n",
       "      <td>130.24</td>\n",
       "      <td>47143.32874</td>\n",
       "      <td>0</td>\n",
       "      <td>2</td>\n",
       "      <td>1</td>\n",
       "      <td>asia</td>\n",
       "      <td>1.08</td>\n",
       "    </tr>\n",
       "    <tr>\n",
       "      <th>1</th>\n",
       "      <td>2020-01-01 08:00:00</td>\n",
       "      <td>130.24</td>\n",
       "      <td>132.40</td>\n",
       "      <td>129.87</td>\n",
       "      <td>132.08</td>\n",
       "      <td>51833.22852</td>\n",
       "      <td>8</td>\n",
       "      <td>2</td>\n",
       "      <td>1</td>\n",
       "      <td>asia-europe</td>\n",
       "      <td>1.84</td>\n",
       "    </tr>\n",
       "    <tr>\n",
       "      <th>2</th>\n",
       "      <td>2020-01-01 16:00:00</td>\n",
       "      <td>132.08</td>\n",
       "      <td>133.05</td>\n",
       "      <td>129.74</td>\n",
       "      <td>130.77</td>\n",
       "      <td>45793.96471</td>\n",
       "      <td>16</td>\n",
       "      <td>2</td>\n",
       "      <td>1</td>\n",
       "      <td>europe-america</td>\n",
       "      <td>-1.31</td>\n",
       "    </tr>\n",
       "  </tbody>\n",
       "</table>\n",
       "</div>"
      ],
      "text/plain": [
       "            timestamp    open    high     low   close       volume  hour  day  \\\n",
       "0 2020-01-01 00:00:00  129.16  130.98  128.68  130.24  47143.32874     0    2   \n",
       "1 2020-01-01 08:00:00  130.24  132.40  129.87  132.08  51833.22852     8    2   \n",
       "2 2020-01-01 16:00:00  132.08  133.05  129.74  130.77  45793.96471    16    2   \n",
       "\n",
       "   month         session    co  \n",
       "0      1            asia  1.08  \n",
       "1      1     asia-europe  1.84  \n",
       "2      1  europe-america -1.31  "
      ]
     },
     "metadata": {},
     "output_type": "display_data"
    },
    {
     "name": "stdout",
     "output_type": "stream",
     "text": [
      "downward movement\n",
      "since the co value: -1.3100000000000023 is negative\n"
     ]
    }
   ],
   "source": [
    "display(ohlc_prices.head(3))\n",
    "idx = 2\n",
    "print('upward movement' if ohlc_prices['co'][idx] > 0 else 'downward movement')\n",
    "print('since the co value:', ohlc_prices['co'][idx], 'is positive' if ohlc_prices['co'][idx] > 0 else 'is negative')"
   ]
  },
  {
   "cell_type": "markdown",
   "metadata": {},
   "source": [
    "## <font color= 'royal blue'> Q11: Can you create a _direction_ column with 1 if co is positive and 0 otherwise ? </font>"
   ]
  },
  {
   "cell_type": "markdown",
   "metadata": {},
   "source": [
    "(0.5 pts)"
   ]
  },
  {
   "cell_type": "code",
   "execution_count": 39,
   "metadata": {},
   "outputs": [],
   "source": [
    "# place your code here"
   ]
  },
  {
   "cell_type": "code",
   "execution_count": 40,
   "metadata": {},
   "outputs": [
    {
     "data": {
      "text/html": [
       "<div>\n",
       "<style scoped>\n",
       "    .dataframe tbody tr th:only-of-type {\n",
       "        vertical-align: middle;\n",
       "    }\n",
       "\n",
       "    .dataframe tbody tr th {\n",
       "        vertical-align: top;\n",
       "    }\n",
       "\n",
       "    .dataframe thead th {\n",
       "        text-align: right;\n",
       "    }\n",
       "</style>\n",
       "<table border=\"1\" class=\"dataframe\">\n",
       "  <thead>\n",
       "    <tr style=\"text-align: right;\">\n",
       "      <th></th>\n",
       "      <th>timestamp</th>\n",
       "      <th>open</th>\n",
       "      <th>high</th>\n",
       "      <th>low</th>\n",
       "      <th>close</th>\n",
       "      <th>volume</th>\n",
       "      <th>hour</th>\n",
       "      <th>day</th>\n",
       "      <th>month</th>\n",
       "      <th>session</th>\n",
       "      <th>co</th>\n",
       "      <th>direction</th>\n",
       "    </tr>\n",
       "  </thead>\n",
       "  <tbody>\n",
       "    <tr>\n",
       "      <th>0</th>\n",
       "      <td>2020-01-01 00:00:00</td>\n",
       "      <td>129.16</td>\n",
       "      <td>130.98</td>\n",
       "      <td>128.68</td>\n",
       "      <td>130.24</td>\n",
       "      <td>47143.32874</td>\n",
       "      <td>0</td>\n",
       "      <td>2</td>\n",
       "      <td>1</td>\n",
       "      <td>asia</td>\n",
       "      <td>1.08</td>\n",
       "      <td>1</td>\n",
       "    </tr>\n",
       "    <tr>\n",
       "      <th>1</th>\n",
       "      <td>2020-01-01 08:00:00</td>\n",
       "      <td>130.24</td>\n",
       "      <td>132.40</td>\n",
       "      <td>129.87</td>\n",
       "      <td>132.08</td>\n",
       "      <td>51833.22852</td>\n",
       "      <td>8</td>\n",
       "      <td>2</td>\n",
       "      <td>1</td>\n",
       "      <td>asia-europe</td>\n",
       "      <td>1.84</td>\n",
       "      <td>1</td>\n",
       "    </tr>\n",
       "    <tr>\n",
       "      <th>2</th>\n",
       "      <td>2020-01-01 16:00:00</td>\n",
       "      <td>132.08</td>\n",
       "      <td>133.05</td>\n",
       "      <td>129.74</td>\n",
       "      <td>130.77</td>\n",
       "      <td>45793.96471</td>\n",
       "      <td>16</td>\n",
       "      <td>2</td>\n",
       "      <td>1</td>\n",
       "      <td>europe-america</td>\n",
       "      <td>-1.31</td>\n",
       "      <td>0</td>\n",
       "    </tr>\n",
       "    <tr>\n",
       "      <th>3</th>\n",
       "      <td>2020-01-02 00:00:00</td>\n",
       "      <td>130.72</td>\n",
       "      <td>130.78</td>\n",
       "      <td>128.69</td>\n",
       "      <td>129.26</td>\n",
       "      <td>66066.00891</td>\n",
       "      <td>0</td>\n",
       "      <td>3</td>\n",
       "      <td>1</td>\n",
       "      <td>asia</td>\n",
       "      <td>-1.46</td>\n",
       "      <td>0</td>\n",
       "    </tr>\n",
       "    <tr>\n",
       "      <th>4</th>\n",
       "      <td>2020-01-02 08:00:00</td>\n",
       "      <td>129.23</td>\n",
       "      <td>130.28</td>\n",
       "      <td>128.90</td>\n",
       "      <td>129.59</td>\n",
       "      <td>48498.93237</td>\n",
       "      <td>8</td>\n",
       "      <td>3</td>\n",
       "      <td>1</td>\n",
       "      <td>asia-europe</td>\n",
       "      <td>0.36</td>\n",
       "      <td>1</td>\n",
       "    </tr>\n",
       "  </tbody>\n",
       "</table>\n",
       "</div>"
      ],
      "text/plain": [
       "            timestamp    open    high     low   close       volume  hour  day  \\\n",
       "0 2020-01-01 00:00:00  129.16  130.98  128.68  130.24  47143.32874     0    2   \n",
       "1 2020-01-01 08:00:00  130.24  132.40  129.87  132.08  51833.22852     8    2   \n",
       "2 2020-01-01 16:00:00  132.08  133.05  129.74  130.77  45793.96471    16    2   \n",
       "3 2020-01-02 00:00:00  130.72  130.78  128.69  129.26  66066.00891     0    3   \n",
       "4 2020-01-02 08:00:00  129.23  130.28  128.90  129.59  48498.93237     8    3   \n",
       "\n",
       "   month         session    co  direction  \n",
       "0      1            asia  1.08          1  \n",
       "1      1     asia-europe  1.84          1  \n",
       "2      1  europe-america -1.31          0  \n",
       "3      1            asia -1.46          0  \n",
       "4      1     asia-europe  0.36          1  "
      ]
     },
     "metadata": {},
     "output_type": "display_data"
    },
    {
     "data": {
      "text/html": [
       "<div>\n",
       "<style scoped>\n",
       "    .dataframe tbody tr th:only-of-type {\n",
       "        vertical-align: middle;\n",
       "    }\n",
       "\n",
       "    .dataframe tbody tr th {\n",
       "        vertical-align: top;\n",
       "    }\n",
       "\n",
       "    .dataframe thead th {\n",
       "        text-align: right;\n",
       "    }\n",
       "</style>\n",
       "<table border=\"1\" class=\"dataframe\">\n",
       "  <thead>\n",
       "    <tr style=\"text-align: right;\">\n",
       "      <th></th>\n",
       "      <th>timestamp</th>\n",
       "      <th>open</th>\n",
       "      <th>high</th>\n",
       "      <th>low</th>\n",
       "      <th>close</th>\n",
       "      <th>volume</th>\n",
       "      <th>hour</th>\n",
       "      <th>day</th>\n",
       "      <th>month</th>\n",
       "      <th>session</th>\n",
       "      <th>co</th>\n",
       "      <th>direction</th>\n",
       "    </tr>\n",
       "  </thead>\n",
       "  <tbody>\n",
       "    <tr>\n",
       "      <th>806</th>\n",
       "      <td>2020-09-25 16:00:00</td>\n",
       "      <td>347.14</td>\n",
       "      <td>358.00</td>\n",
       "      <td>345.00</td>\n",
       "      <td>351.92</td>\n",
       "      <td>260019.53836</td>\n",
       "      <td>16</td>\n",
       "      <td>4</td>\n",
       "      <td>9</td>\n",
       "      <td>europe-america</td>\n",
       "      <td>4.78</td>\n",
       "      <td>1</td>\n",
       "    </tr>\n",
       "    <tr>\n",
       "      <th>807</th>\n",
       "      <td>2020-09-26 00:00:00</td>\n",
       "      <td>351.93</td>\n",
       "      <td>356.40</td>\n",
       "      <td>348.97</td>\n",
       "      <td>350.82</td>\n",
       "      <td>183874.46664</td>\n",
       "      <td>0</td>\n",
       "      <td>5</td>\n",
       "      <td>9</td>\n",
       "      <td>asia</td>\n",
       "      <td>-1.11</td>\n",
       "      <td>0</td>\n",
       "    </tr>\n",
       "    <tr>\n",
       "      <th>808</th>\n",
       "      <td>2020-09-26 08:00:00</td>\n",
       "      <td>350.82</td>\n",
       "      <td>354.72</td>\n",
       "      <td>345.88</td>\n",
       "      <td>352.34</td>\n",
       "      <td>219447.48726</td>\n",
       "      <td>8</td>\n",
       "      <td>5</td>\n",
       "      <td>9</td>\n",
       "      <td>asia-europe</td>\n",
       "      <td>1.52</td>\n",
       "      <td>1</td>\n",
       "    </tr>\n",
       "    <tr>\n",
       "      <th>809</th>\n",
       "      <td>2020-09-26 16:00:00</td>\n",
       "      <td>352.34</td>\n",
       "      <td>355.90</td>\n",
       "      <td>350.42</td>\n",
       "      <td>353.92</td>\n",
       "      <td>127557.25365</td>\n",
       "      <td>16</td>\n",
       "      <td>5</td>\n",
       "      <td>9</td>\n",
       "      <td>europe-america</td>\n",
       "      <td>1.58</td>\n",
       "      <td>1</td>\n",
       "    </tr>\n",
       "    <tr>\n",
       "      <th>810</th>\n",
       "      <td>2020-09-27 00:00:00</td>\n",
       "      <td>353.95</td>\n",
       "      <td>362.14</td>\n",
       "      <td>352.50</td>\n",
       "      <td>354.34</td>\n",
       "      <td>257984.15667</td>\n",
       "      <td>0</td>\n",
       "      <td>6</td>\n",
       "      <td>9</td>\n",
       "      <td>asia</td>\n",
       "      <td>0.39</td>\n",
       "      <td>1</td>\n",
       "    </tr>\n",
       "  </tbody>\n",
       "</table>\n",
       "</div>"
      ],
      "text/plain": [
       "              timestamp    open    high     low   close        volume  hour  \\\n",
       "806 2020-09-25 16:00:00  347.14  358.00  345.00  351.92  260019.53836    16   \n",
       "807 2020-09-26 00:00:00  351.93  356.40  348.97  350.82  183874.46664     0   \n",
       "808 2020-09-26 08:00:00  350.82  354.72  345.88  352.34  219447.48726     8   \n",
       "809 2020-09-26 16:00:00  352.34  355.90  350.42  353.92  127557.25365    16   \n",
       "810 2020-09-27 00:00:00  353.95  362.14  352.50  354.34  257984.15667     0   \n",
       "\n",
       "     day  month         session    co  direction  \n",
       "806    4      9  europe-america  4.78          1  \n",
       "807    5      9            asia -1.11          0  \n",
       "808    5      9     asia-europe  1.52          1  \n",
       "809    5      9  europe-america  1.58          1  \n",
       "810    6      9            asia  0.39          1  "
      ]
     },
     "metadata": {},
     "output_type": "display_data"
    }
   ],
   "source": [
    "display(ohlc_prices.head(5))\n",
    "display(ohlc_prices.tail(5))"
   ]
  },
  {
   "cell_type": "markdown",
   "metadata": {},
   "source": [
    "## <font color= 'royal blue'> Q12: Can you count the consecutive 1s or 0s in _direction_ column ? </font>"
   ]
  },
  {
   "cell_type": "markdown",
   "metadata": {},
   "source": [
    "(0.5 pts)"
   ]
  },
  {
   "cell_type": "code",
   "execution_count": 41,
   "metadata": {},
   "outputs": [],
   "source": [
    "# place your code here"
   ]
  },
  {
   "cell_type": "code",
   "execution_count": 42,
   "metadata": {},
   "outputs": [
    {
     "data": {
      "text/html": [
       "<div>\n",
       "<style scoped>\n",
       "    .dataframe tbody tr th:only-of-type {\n",
       "        vertical-align: middle;\n",
       "    }\n",
       "\n",
       "    .dataframe tbody tr th {\n",
       "        vertical-align: top;\n",
       "    }\n",
       "\n",
       "    .dataframe thead th {\n",
       "        text-align: right;\n",
       "    }\n",
       "</style>\n",
       "<table border=\"1\" class=\"dataframe\">\n",
       "  <thead>\n",
       "    <tr style=\"text-align: right;\">\n",
       "      <th></th>\n",
       "      <th>timestamp</th>\n",
       "      <th>open</th>\n",
       "      <th>high</th>\n",
       "      <th>low</th>\n",
       "      <th>close</th>\n",
       "      <th>volume</th>\n",
       "      <th>hour</th>\n",
       "      <th>day</th>\n",
       "      <th>month</th>\n",
       "      <th>session</th>\n",
       "      <th>co</th>\n",
       "      <th>direction</th>\n",
       "      <th>direction_c</th>\n",
       "    </tr>\n",
       "  </thead>\n",
       "  <tbody>\n",
       "    <tr>\n",
       "      <th>0</th>\n",
       "      <td>2020-01-01 00:00:00</td>\n",
       "      <td>129.16</td>\n",
       "      <td>130.98</td>\n",
       "      <td>128.68</td>\n",
       "      <td>130.24</td>\n",
       "      <td>47143.32874</td>\n",
       "      <td>0</td>\n",
       "      <td>2</td>\n",
       "      <td>1</td>\n",
       "      <td>asia</td>\n",
       "      <td>1.08</td>\n",
       "      <td>1</td>\n",
       "      <td>0</td>\n",
       "    </tr>\n",
       "    <tr>\n",
       "      <th>1</th>\n",
       "      <td>2020-01-01 08:00:00</td>\n",
       "      <td>130.24</td>\n",
       "      <td>132.40</td>\n",
       "      <td>129.87</td>\n",
       "      <td>132.08</td>\n",
       "      <td>51833.22852</td>\n",
       "      <td>8</td>\n",
       "      <td>2</td>\n",
       "      <td>1</td>\n",
       "      <td>asia-europe</td>\n",
       "      <td>1.84</td>\n",
       "      <td>1</td>\n",
       "      <td>1</td>\n",
       "    </tr>\n",
       "    <tr>\n",
       "      <th>2</th>\n",
       "      <td>2020-01-01 16:00:00</td>\n",
       "      <td>132.08</td>\n",
       "      <td>133.05</td>\n",
       "      <td>129.74</td>\n",
       "      <td>130.77</td>\n",
       "      <td>45793.96471</td>\n",
       "      <td>16</td>\n",
       "      <td>2</td>\n",
       "      <td>1</td>\n",
       "      <td>europe-america</td>\n",
       "      <td>-1.31</td>\n",
       "      <td>0</td>\n",
       "      <td>0</td>\n",
       "    </tr>\n",
       "    <tr>\n",
       "      <th>3</th>\n",
       "      <td>2020-01-02 00:00:00</td>\n",
       "      <td>130.72</td>\n",
       "      <td>130.78</td>\n",
       "      <td>128.69</td>\n",
       "      <td>129.26</td>\n",
       "      <td>66066.00891</td>\n",
       "      <td>0</td>\n",
       "      <td>3</td>\n",
       "      <td>1</td>\n",
       "      <td>asia</td>\n",
       "      <td>-1.46</td>\n",
       "      <td>0</td>\n",
       "      <td>1</td>\n",
       "    </tr>\n",
       "    <tr>\n",
       "      <th>4</th>\n",
       "      <td>2020-01-02 08:00:00</td>\n",
       "      <td>129.23</td>\n",
       "      <td>130.28</td>\n",
       "      <td>128.90</td>\n",
       "      <td>129.59</td>\n",
       "      <td>48498.93237</td>\n",
       "      <td>8</td>\n",
       "      <td>3</td>\n",
       "      <td>1</td>\n",
       "      <td>asia-europe</td>\n",
       "      <td>0.36</td>\n",
       "      <td>1</td>\n",
       "      <td>0</td>\n",
       "    </tr>\n",
       "  </tbody>\n",
       "</table>\n",
       "</div>"
      ],
      "text/plain": [
       "            timestamp    open    high     low   close       volume  hour  day  \\\n",
       "0 2020-01-01 00:00:00  129.16  130.98  128.68  130.24  47143.32874     0    2   \n",
       "1 2020-01-01 08:00:00  130.24  132.40  129.87  132.08  51833.22852     8    2   \n",
       "2 2020-01-01 16:00:00  132.08  133.05  129.74  130.77  45793.96471    16    2   \n",
       "3 2020-01-02 00:00:00  130.72  130.78  128.69  129.26  66066.00891     0    3   \n",
       "4 2020-01-02 08:00:00  129.23  130.28  128.90  129.59  48498.93237     8    3   \n",
       "\n",
       "   month         session    co  direction  direction_c  \n",
       "0      1            asia  1.08          1            0  \n",
       "1      1     asia-europe  1.84          1            1  \n",
       "2      1  europe-america -1.31          0            0  \n",
       "3      1            asia -1.46          0            1  \n",
       "4      1     asia-europe  0.36          1            0  "
      ]
     },
     "metadata": {},
     "output_type": "display_data"
    },
    {
     "data": {
      "text/html": [
       "<div>\n",
       "<style scoped>\n",
       "    .dataframe tbody tr th:only-of-type {\n",
       "        vertical-align: middle;\n",
       "    }\n",
       "\n",
       "    .dataframe tbody tr th {\n",
       "        vertical-align: top;\n",
       "    }\n",
       "\n",
       "    .dataframe thead th {\n",
       "        text-align: right;\n",
       "    }\n",
       "</style>\n",
       "<table border=\"1\" class=\"dataframe\">\n",
       "  <thead>\n",
       "    <tr style=\"text-align: right;\">\n",
       "      <th></th>\n",
       "      <th>timestamp</th>\n",
       "      <th>open</th>\n",
       "      <th>high</th>\n",
       "      <th>low</th>\n",
       "      <th>close</th>\n",
       "      <th>volume</th>\n",
       "      <th>hour</th>\n",
       "      <th>day</th>\n",
       "      <th>month</th>\n",
       "      <th>session</th>\n",
       "      <th>co</th>\n",
       "      <th>direction</th>\n",
       "      <th>direction_c</th>\n",
       "    </tr>\n",
       "  </thead>\n",
       "  <tbody>\n",
       "    <tr>\n",
       "      <th>806</th>\n",
       "      <td>2020-09-25 16:00:00</td>\n",
       "      <td>347.14</td>\n",
       "      <td>358.00</td>\n",
       "      <td>345.00</td>\n",
       "      <td>351.92</td>\n",
       "      <td>260019.53836</td>\n",
       "      <td>16</td>\n",
       "      <td>4</td>\n",
       "      <td>9</td>\n",
       "      <td>europe-america</td>\n",
       "      <td>4.78</td>\n",
       "      <td>1</td>\n",
       "      <td>1</td>\n",
       "    </tr>\n",
       "    <tr>\n",
       "      <th>807</th>\n",
       "      <td>2020-09-26 00:00:00</td>\n",
       "      <td>351.93</td>\n",
       "      <td>356.40</td>\n",
       "      <td>348.97</td>\n",
       "      <td>350.82</td>\n",
       "      <td>183874.46664</td>\n",
       "      <td>0</td>\n",
       "      <td>5</td>\n",
       "      <td>9</td>\n",
       "      <td>asia</td>\n",
       "      <td>-1.11</td>\n",
       "      <td>0</td>\n",
       "      <td>0</td>\n",
       "    </tr>\n",
       "    <tr>\n",
       "      <th>808</th>\n",
       "      <td>2020-09-26 08:00:00</td>\n",
       "      <td>350.82</td>\n",
       "      <td>354.72</td>\n",
       "      <td>345.88</td>\n",
       "      <td>352.34</td>\n",
       "      <td>219447.48726</td>\n",
       "      <td>8</td>\n",
       "      <td>5</td>\n",
       "      <td>9</td>\n",
       "      <td>asia-europe</td>\n",
       "      <td>1.52</td>\n",
       "      <td>1</td>\n",
       "      <td>0</td>\n",
       "    </tr>\n",
       "    <tr>\n",
       "      <th>809</th>\n",
       "      <td>2020-09-26 16:00:00</td>\n",
       "      <td>352.34</td>\n",
       "      <td>355.90</td>\n",
       "      <td>350.42</td>\n",
       "      <td>353.92</td>\n",
       "      <td>127557.25365</td>\n",
       "      <td>16</td>\n",
       "      <td>5</td>\n",
       "      <td>9</td>\n",
       "      <td>europe-america</td>\n",
       "      <td>1.58</td>\n",
       "      <td>1</td>\n",
       "      <td>1</td>\n",
       "    </tr>\n",
       "    <tr>\n",
       "      <th>810</th>\n",
       "      <td>2020-09-27 00:00:00</td>\n",
       "      <td>353.95</td>\n",
       "      <td>362.14</td>\n",
       "      <td>352.50</td>\n",
       "      <td>354.34</td>\n",
       "      <td>257984.15667</td>\n",
       "      <td>0</td>\n",
       "      <td>6</td>\n",
       "      <td>9</td>\n",
       "      <td>asia</td>\n",
       "      <td>0.39</td>\n",
       "      <td>1</td>\n",
       "      <td>2</td>\n",
       "    </tr>\n",
       "  </tbody>\n",
       "</table>\n",
       "</div>"
      ],
      "text/plain": [
       "              timestamp    open    high     low   close        volume  hour  \\\n",
       "806 2020-09-25 16:00:00  347.14  358.00  345.00  351.92  260019.53836    16   \n",
       "807 2020-09-26 00:00:00  351.93  356.40  348.97  350.82  183874.46664     0   \n",
       "808 2020-09-26 08:00:00  350.82  354.72  345.88  352.34  219447.48726     8   \n",
       "809 2020-09-26 16:00:00  352.34  355.90  350.42  353.92  127557.25365    16   \n",
       "810 2020-09-27 00:00:00  353.95  362.14  352.50  354.34  257984.15667     0   \n",
       "\n",
       "     day  month         session    co  direction  direction_c  \n",
       "806    4      9  europe-america  4.78          1            1  \n",
       "807    5      9            asia -1.11          0            0  \n",
       "808    5      9     asia-europe  1.52          1            0  \n",
       "809    5      9  europe-america  1.58          1            1  \n",
       "810    6      9            asia  0.39          1            2  "
      ]
     },
     "metadata": {},
     "output_type": "display_data"
    }
   ],
   "source": [
    "display(ohlc_prices.head(5))\n",
    "display(ohlc_prices.tail(5))"
   ]
  },
  {
   "cell_type": "markdown",
   "metadata": {},
   "source": [
    "<br>"
   ]
  },
  {
   "cell_type": "markdown",
   "metadata": {},
   "source": [
    "# <font color= #6B6B6B> <font size = 6> References </font>"
   ]
  },
  {
   "cell_type": "markdown",
   "metadata": {},
   "source": [
    "<hr style=\"border:0.02in solid gray\"> </hr>"
   ]
  },
  {
   "cell_type": "markdown",
   "metadata": {},
   "source": [
    "[1] Munnoz, 2020. Python project template. https://github.com/iffranciscome/python-project. (2021)."
   ]
  },
  {
   "cell_type": "markdown",
   "metadata": {},
   "source": [
    "<br>"
   ]
  }
 ],
 "metadata": {
  "kernelspec": {
   "display_name": "Python 3",
   "language": "python",
   "name": "python3"
  },
  "language_info": {
   "codemirror_mode": {
    "name": "ipython",
    "version": 3
   },
   "file_extension": ".py",
   "mimetype": "text/x-python",
   "name": "python",
   "nbconvert_exporter": "python",
   "pygments_lexer": "ipython3",
   "version": "3.7.3"
  }
 },
 "nbformat": 4,
 "nbformat_minor": 4
}
